{
 "cells": [
  {
   "cell_type": "code",
   "execution_count": null,
   "metadata": {},
   "outputs": [],
   "source": [
    "import pandas as pd\n",
    "import numpy as np\n",
    "from matplotlib import pyplot as plt\n",
    "from sklearn.preprocessing import LabelEncoder\n",
    "from sklearn.metrics import mean_squared_error\n",
    "import seaborn as sns\n",
    "import xgboost\n",
    "from pandas import read_csv\n",
    "import pandas\n",
    "import numpy as np\n",
    "import matplotlib.pyplot as plt\n",
    "import csv"
   ]
  },
  {
   "cell_type": "code",
   "execution_count": null,
   "metadata": {},
   "outputs": [],
   "source": [
    "df_new = read_csv(\"new_Basetrain.csv\")\n",
    "df_new.head(5)"
   ]
  },
  {
   "cell_type": "code",
   "execution_count": null,
   "metadata": {},
   "outputs": [],
   "source": [
    "df_kagg = read_csv(\"new_kaggtest.csv\")\n",
    "df_kagg.shape"
   ]
  },
  {
   "cell_type": "code",
   "execution_count": null,
   "metadata": {},
   "outputs": [],
   "source": [
    "df_new.info()"
   ]
  },
  {
   "cell_type": "code",
   "execution_count": null,
   "metadata": {},
   "outputs": [],
   "source": [
    "k = 10 #number of variables for heatmap\n",
    "cols = corrmat.nlargest(k,'target')['target'].index\n",
    "cm = np.corrcoef(df_new[cols].values.T)\n",
    "sns.set(font_scale=1)\n",
    "hm = sns.heatmap(cm, cbar=True, linewidths=.5, annot=True, square=True, fmt='.2f', annot_kws={'size': 10}, yticklabels=cols.values, xticklabels=cols.values)\n",
    "plt.show()"
   ]
  },
  {
   "cell_type": "code",
   "execution_count": null,
   "metadata": {},
   "outputs": [],
   "source": [
    "from pandas import read_csv\n",
    "from alys import regression as alysCL\n",
    "from alys import  save as SV\n",
    "from graph import rViz \n",
    "import pandas\n",
    "import numpy as np\n",
    "import matplotlib.pyplot as plt\n",
    "import sys\n",
    "import os\n",
    "import csv\n",
    "from biglearn import createNewPred as CP\n",
    "from biglearn import analyserML as ML"
   ]
  },
  {
   "cell_type": "raw",
   "metadata": {},
   "source": [
    "Retour sous BigMl avec le nouveau dataset, je vais evaluer la moyenne de la marge par erreur pour la comparer à la situation initiale"
   ]
  },
  {
   "cell_type": "code",
   "execution_count": null,
   "metadata": {},
   "outputs": [],
   "source": [
    "df_new = read_csv(\"new_Basetrain.csv\")\n",
    "df_new = df_new.drop(columns = \"SalePriceLog\")\n",
    "df_new.to_csv(\"new_Basetrain2.csv\")"
   ]
  },
  {
   "cell_type": "code",
   "execution_count": null,
   "metadata": {},
   "outputs": [],
   "source": [
    "CP.newDataSet()"
   ]
  },
  {
   "cell_type": "code",
   "execution_count": null,
   "metadata": {},
   "outputs": [],
   "source": [
    "df = read_csv('Pred_Files/ML_pred4.csv')\n",
    "alysCL.regr(df)"
   ]
  },
  {
   "cell_type": "code",
   "execution_count": null,
   "metadata": {},
   "outputs": [],
   "source": [
    "alysCL.posneg(df)"
   ]
  },
  {
   "cell_type": "code",
   "execution_count": null,
   "metadata": {},
   "outputs": [],
   "source": [
    "df.sort_values(\"errorabs\", axis = 0, ascending = False)"
   ]
  },
  {
   "cell_type": "code",
   "execution_count": null,
   "metadata": {},
   "outputs": [],
   "source": [
    "SV.extraction(df)"
   ]
  },
  {
   "cell_type": "code",
   "execution_count": null,
   "metadata": {},
   "outputs": [],
   "source": [
    "alysCL.seuil_vs_error(df)"
   ]
  },
  {
   "cell_type": "code",
   "execution_count": null,
   "metadata": {},
   "outputs": [],
   "source": [
    "alysCL.seuil_vs_error(df)"
   ]
  },
  {
   "cell_type": "code",
   "execution_count": null,
   "metadata": {},
   "outputs": [],
   "source": [
    "count = 0\n",
    "for i in df[\"Id\"] :\n",
    "    count +=1\n",
    "\n",
    "s = pandas.Series(range(1,(count +1)))\n",
    "tablex=s    \n",
    "    \n",
    "tabley=df[\"errorabs\"]\n",
    "\n",
    "for i in tablex :\n",
    "    df[\"seuil_applique\"] = 0.1\n",
    "    \n",
    "tabley2 =df[\"seuil_applique\"]\n",
    "rViz.graph_double(tablex,tabley,tabley2)"
   ]
  },
  {
   "cell_type": "raw",
   "metadata": {},
   "source": [
    "La moyenne de la marge par erreur a diminuée, grâce aux améliorations appliqué sur le dataframe"
   ]
  },
  {
   "cell_type": "code",
   "execution_count": null,
   "metadata": {},
   "outputs": [],
   "source": []
  }
 ],
 "metadata": {
  "kernelspec": {
   "display_name": "Python 3",
   "language": "python",
   "name": "python3"
  },
  "language_info": {
   "codemirror_mode": {
    "name": "ipython",
    "version": 3
   },
   "file_extension": ".py",
   "mimetype": "text/x-python",
   "name": "python",
   "nbconvert_exporter": "python",
   "pygments_lexer": "ipython3",
   "version": "3.7.3"
  }
 },
 "nbformat": 4,
 "nbformat_minor": 2
}
