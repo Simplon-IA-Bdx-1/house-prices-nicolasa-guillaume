{
 "cells": [
  {
   "cell_type": "code",
   "execution_count": null,
   "metadata": {},
   "outputs": [],
   "source": [
    "import pandas as pd\n",
    "import numpy as np\n",
    "from sklearn.preprocessing import LabelEncoder\n",
    "from sklearn.metrics import mean_squared_error as MSE\n",
    "import seaborn as sns\n",
    "import xgboost\n",
    "from pandas import read_csv\n",
    "import pandas\n",
    "import numpy as np\n",
    "import matplotlib.pyplot as plt\n",
    "import csv\n",
    "from alys import save as SV\n",
    "from sklearn.model_selection import train_test_split"
   ]
  },
  {
   "cell_type": "code",
   "execution_count": null,
   "metadata": {},
   "outputs": [],
   "source": [
    "df_new = read_csv(\"new_Basetrain.csv\", index_col =0)\n",
    "df_kagg = read_csv(\"new_kaggtest.csv\", index_col =0)"
   ]
  },
  {
   "cell_type": "code",
   "execution_count": null,
   "metadata": {},
   "outputs": [],
   "source": [
    "ax = sns.lineplot(x=\"YearBuilt\", y=\"target\", data=df_new)"
   ]
  },
  {
   "cell_type": "code",
   "execution_count": null,
   "metadata": {},
   "outputs": [],
   "source": [
    "df_ann = read_csv('Rapport/analyse2.csv') \n",
    "ax = sns.lineplot(x=\"YearBuilt\", y=\"errorabs\", data=df_ann)"
   ]
  },
  {
   "cell_type": "code",
   "execution_count": null,
   "metadata": {},
   "outputs": [],
   "source": [
    "df_ann = read_csv('Rapport/analyse2.csv') \n",
    "ax = sns.lineplot(x=\"YearBuilt\", y=\"pourcerror\", data=df_ann)"
   ]
  },
  {
   "cell_type": "code",
   "execution_count": null,
   "metadata": {},
   "outputs": [],
   "source": [
    "ax = sns.lineplot(x=\"YearBuilt\", y=\"SalePriceLog\", data=df_ann)"
   ]
  },
  {
   "cell_type": "code",
   "execution_count": null,
   "metadata": {},
   "outputs": [],
   "source": [
    "corr_matrix = abs(df_new.corr())\n",
    "corr_matrix['SalePriceLog'].sort_values(ascending=False).head(30)"
   ]
  },
  {
   "cell_type": "code",
   "execution_count": null,
   "metadata": {},
   "outputs": [],
   "source": [
    "y_trainfull = df_new.SalePriceLog.values.reshape((1453,1))\n",
    "x_trainfull = df_new.drop(['target','SalePriceLog'], axis=1)\n",
    "x_test = df_kagg"
   ]
  },
  {
   "cell_type": "code",
   "execution_count": null,
   "metadata": {},
   "outputs": [],
   "source": [
    "y_trainfull.shape,x_trainfull.shape,x_test.shape"
   ]
  },
  {
   "cell_type": "code",
   "execution_count": null,
   "metadata": {},
   "outputs": [],
   "source": [
    "x_train, x_val, y_train, y_val = train_test_split(x_trainfull,y_trainfull , test_size=0.3, random_state=42)"
   ]
  },
  {
   "cell_type": "code",
   "execution_count": null,
   "metadata": {},
   "outputs": [],
   "source": [
    "x_train.shape, x_val.shape, y_train.shape, y_val.shape "
   ]
  },
  {
   "cell_type": "code",
   "execution_count": null,
   "metadata": {},
   "outputs": [],
   "source": [
    "xgb = xgboost.XGBRegressor(colsample_bytree=0.8, subsample=0.5,\n",
    "                             learning_rate=0.05, max_depth=3, \n",
    "                             min_child_weight=1.8, n_estimators=2000,\n",
    "                             reg_alpha=0.1, reg_lambda=0.3, gamma=0.01, \n",
    "                             silent=1, random_state =7, nthread = -1)\n",
    "\n",
    "\n",
    "xgb.fit(x_train,y_train)\n",
    "xgb_pred = xgb.predict(x_val)"
   ]
  },
  {
   "cell_type": "code",
   "execution_count": null,
   "metadata": {},
   "outputs": [],
   "source": [
    "RMSE = np.sqrt(MSE(xgb_pred, y_val))\n",
    "print(RMSE.round(4))"
   ]
  },
  {
   "cell_type": "code",
   "execution_count": null,
   "metadata": {},
   "outputs": [],
   "source": [
    "y_test = xgb.predict(x_test)"
   ]
  },
  {
   "cell_type": "code",
   "execution_count": null,
   "metadata": {},
   "outputs": [],
   "source": [
    "submission = pd.DataFrame({\"Id\": df_kagg.index,\"SalePrice\": np.exp(y_test)})\n",
    "submission.to_csv(\"new_kagg6.csv\", index= False)"
   ]
  },
  {
   "cell_type": "code",
   "execution_count": null,
   "metadata": {},
   "outputs": [],
   "source": [
    "df_new.to_csv('new_Basetrain.csv')"
   ]
  },
  {
   "cell_type": "code",
   "execution_count": null,
   "metadata": {},
   "outputs": [],
   "source": [
    "from IPython.display import Image\n",
    "Image('png/idb8.png')"
   ]
  },
  {
   "cell_type": "code",
   "execution_count": null,
   "metadata": {},
   "outputs": [],
   "source": [
    "df_new = read_csv(\"new_Basetrain.csv\", index_col =0)\n",
    "df_kagg = read_csv(\"new_kaggtest.csv\", index_col =0)"
   ]
  },
  {
   "cell_type": "code",
   "execution_count": null,
   "metadata": {},
   "outputs": [],
   "source": [
    "df_new['TotalSFlog'] = np.log(df_new.TotalSF) \n",
    "df_new['GrLivArealog'] = np.log(df_new.GrLivArea)\n",
    "\n",
    "df_kagg['TotalSFlog'] = np.log(df_kagg.TotalSF)\n",
    "df_kagg['GrLivArealog'] = np.log(df_kagg.GrLivArea)\n",
    "\n"
   ]
  },
  {
   "cell_type": "code",
   "execution_count": null,
   "metadata": {},
   "outputs": [],
   "source": [
    "y_trainfull = df_new.SalePriceLog.values.reshape((1453,1))\n",
    "x_trainfull = df_new.drop(['target','SalePriceLog'], axis=1)\n",
    "x_test = df_kagg"
   ]
  },
  {
   "cell_type": "code",
   "execution_count": null,
   "metadata": {},
   "outputs": [],
   "source": [
    "x_train, x_val, y_train, y_val = train_test_split(x_trainfull,y_trainfull , test_size=0.3, random_state=42)"
   ]
  },
  {
   "cell_type": "code",
   "execution_count": null,
   "metadata": {},
   "outputs": [],
   "source": [
    "#Operation trés longue, crash du noyeau si ont passe tout les paramétres.\n",
    "from sklearn.model_selection import GridSearchCV\n",
    "\n",
    "param_grid = [{'n_estimators': [400,500,600,700],'max_depth': [2,3,4,5],\n",
    "               'colsample_bytree' : [0.5,0.6,0.7,0.8],'subsample' : [0.5,0.6,0.7,0.8],\n",
    "#               'learning_rate':[0.04,0.05,0.06],'min_child_weight': [1.6,1.7,1.8],\n",
    "#                'reg_alpha':[0.1,0.2,0.3,0.4,0.5,0.6,0.7,0.8,0.9],'reg_lambda': [0.1,0.2,0.3,0.4,0.5,0.6,0.7,0.8,0.9],\n",
    "#                'gamma': [0.01,0.02,0.03,0.04,0.05,0.06,0.07,0.08,0.09],'silent': [1,2,3,4,5,6,7,8,9],\n",
    "#                'random_state': [1,2,3,4,5,6,7,8,9], 'nthread' : [-2,-1.5,-1.25,-1,-0.75,-0.5,-0.25]\n",
    "              }]\n",
    "my_learn = xgboost.XGBRegressor()\n",
    "grid_search = GridSearchCV(my_learn,param_grid, cv=5, scoring ='neg_mean_squared_error', return_train_score=True)\n",
    "grid_search.fit(x_train,y_train)"
   ]
  },
  {
   "cell_type": "code",
   "execution_count": null,
   "metadata": {},
   "outputs": [],
   "source": [
    "grid_search.best_params_"
   ]
  },
  {
   "cell_type": "code",
   "execution_count": null,
   "metadata": {},
   "outputs": [],
   "source": [
    "x_train, x_val, y_train, y_val = train_test_split(x_trainfull,y_trainfull , test_size=0.3, random_state=42)"
   ]
  },
  {
   "cell_type": "code",
   "execution_count": null,
   "metadata": {},
   "outputs": [],
   "source": [
    "xgb = xgboost.XGBRegressor(colsample_bytree=0.5, subsample=0.7,\n",
    "                             learning_rate=0.05, max_depth=3, \n",
    "                             min_child_weight=1.8, n_estimators=1000,\n",
    "                             reg_alpha=0.1, reg_lambda=0.3, gamma=0.01, \n",
    "                             silent=1, random_state =7, nthread = -1)\n",
    "\n",
    "\n",
    "xgb.fit(x_train,y_train)\n",
    "xgb_pred = xgb.predict(x_val)"
   ]
  },
  {
   "cell_type": "code",
   "execution_count": null,
   "metadata": {},
   "outputs": [],
   "source": [
    "RMSE = np.sqrt(MSE(xgb_pred, y_val))\n",
    "print(RMSE.round(4))                            \n",
    "#last 0.1145 avec max_depth 2 et n esti 1000\n",
    "#last 0.1141 {'colsample_bytree': 0.5, 'max_depth': 3, 'n_estimators': 1000,'subsample': 0.7}"
   ]
  },
  {
   "cell_type": "code",
   "execution_count": null,
   "metadata": {},
   "outputs": [],
   "source": [
    "y_test = xgb.predict(x_test)"
   ]
  },
  {
   "cell_type": "code",
   "execution_count": null,
   "metadata": {},
   "outputs": [],
   "source": [
    "submission = pd.DataFrame({\"Id\": df_kagg.index,\"SalePrice\": np.exp(y_test)})\n",
    "submission.to_csv(\"new_kagg7.csv\", index= False)"
   ]
  },
  {
   "cell_type": "raw",
   "metadata": {},
   "source": [
    "Le RMSE progresse ici, mais regresse sur Kaggle -- "
   ]
  },
  {
   "cell_type": "raw",
   "metadata": {},
   "source": [
    "-------------------------------------------------------------------------------------------"
   ]
  },
  {
   "cell_type": "code",
   "execution_count": null,
   "metadata": {},
   "outputs": [],
   "source": [
    "Le test suivant a fortement degradé le resulat kaggle, cependant je conserve le code en note"
   ]
  },
  {
   "cell_type": "raw",
   "metadata": {},
   "source": [
    "def lookAtTarget(importfile) :\n",
    "    count = 0\n",
    "    df = importfile\n",
    "    \n",
    "    for i in df[\"target\"] :\n",
    "        df.loc[count,\"T_ratio\"] = df.loc[count,\"target\"]/df.loc[count,\"TotalSF\"]\n",
    "#       print(df.loc[count,\"Neighborhood\"],\"---\",df.loc[count,\"T_ratio\"],\"---\",df.loc[count,\"TotalSF\"] ,\"---\",df.loc[count,\"target\"])\n",
    "        count +=1\n",
    "        \n",
    "lookAtTarget(df_new)"
   ]
  },
  {
   "cell_type": "raw",
   "metadata": {},
   "source": [
    "kotien = {}\n",
    "for i in range(25):\n",
    "    kotien[i]=df_new.loc[df_new[\"Neighborhood\"]==i,\"T_ratio\"].mean()\n",
    "print(kotien)\n",
    "\n",
    "for i in df_kagg[\"Neighborhood\"]:\n",
    "    df_kagg.loc[df_kagg[\"Neighborhood\"]==i,\"T_ratio\"]=kotien[i]   \n",
    "        \n",
    "print(df_kagg[\"Neighborhood\"],\"\\n---\\n\",df_kagg[\"T_ratio\"])        "
   ]
  }
 ],
 "metadata": {
  "kernelspec": {
   "display_name": "Python 3",
   "language": "python",
   "name": "python3"
  },
  "language_info": {
   "codemirror_mode": {
    "name": "ipython",
    "version": 3
   },
   "file_extension": ".py",
   "mimetype": "text/x-python",
   "name": "python",
   "nbconvert_exporter": "python",
   "pygments_lexer": "ipython3",
   "version": "3.7.3"
  }
 },
 "nbformat": 4,
 "nbformat_minor": 2
}
