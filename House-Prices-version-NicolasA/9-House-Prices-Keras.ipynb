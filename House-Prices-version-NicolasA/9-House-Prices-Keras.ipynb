{
 "cells": [
  {
   "cell_type": "code",
   "execution_count": null,
   "metadata": {},
   "outputs": [],
   "source": [
    "%autosave 0\n",
    "import numpy as np \n",
    "import pandas as pd \n",
    "from pandas import read_csv, DataFrame\n",
    "from math import sqrt\n",
    "\n",
    "from sklearn.preprocessing import StandardScaler\n",
    "from sklearn.model_selection import train_test_split\n",
    "from sklearn.model_selection import GridSearchCV\n",
    "from sklearn.metrics import mean_squared_error as MSE\n",
    "from sklearn.model_selection import StratifiedKFold\n",
    "\n",
    "from sklearn.preprocessing import PolynomialFeatures \n",
    "from sklearn.pipeline import Pipeline\n",
    "\n",
    "import keras\n",
    "from keras.models import Sequential\n",
    "from keras import Sequential\n",
    "from keras.layers import Dense, Dropout, Input, Activation\n",
    "from keras import metrics\n",
    "from keras import optimizers\n",
    "from keras import regularizers\n",
    "\n",
    "from keras.wrappers.scikit_learn import KerasRegressor\n",
    "\n",
    "import seaborn as sns\n",
    "import matplotlib.pyplot as plt\n",
    "\n",
    "# ignore Warning\n",
    "import warnings\n",
    "warnings.filterwarnings(\"ignore\") \n",
    "\n"
   ]
  },
  {
   "cell_type": "code",
   "execution_count": null,
   "metadata": {},
   "outputs": [],
   "source": [
    "#### Mettre la variable sur True si recherche des paramétres opti, mais l'opération dure environ 45 minutes\n",
    "lookForOptimiz = True"
   ]
  },
  {
   "cell_type": "code",
   "execution_count": null,
   "metadata": {},
   "outputs": [],
   "source": [
    "df_train = read_csv('new_Basetrain.csv')\n",
    "df_Kagg = read_csv('new_kaggtest.csv')\n",
    "\n",
    "submission = pd.DataFrame()\n",
    "submission[\"Id\"]= df_Kagg[\"Id\"]"
   ]
  },
  {
   "cell_type": "markdown",
   "metadata": {},
   "source": [
    "# Preparation du split"
   ]
  },
  {
   "cell_type": "code",
   "execution_count": null,
   "metadata": {},
   "outputs": [],
   "source": [
    "X_train = df_train\n",
    "\n",
    "V_train = df_train['target'].values\n",
    "F_train = df_train.drop(['target','SalePriceLog'], axis=1)\n",
    "\n",
    "F_train"
   ]
  },
  {
   "cell_type": "code",
   "execution_count": null,
   "metadata": {},
   "outputs": [],
   "source": [
    "V_train"
   ]
  },
  {
   "cell_type": "code",
   "execution_count": null,
   "metadata": {},
   "outputs": [],
   "source": [
    "seed = 42\n",
    "np.random.seed(seed)"
   ]
  },
  {
   "cell_type": "code",
   "execution_count": null,
   "metadata": {},
   "outputs": [],
   "source": [
    "X_train, X_val, y_train, y_val = train_test_split(F_train, V_train, test_size=0.3, random_state=seed)\n",
    "\n",
    "scale = StandardScaler()\n",
    "X_train = scale.fit_transform(X_train)\n",
    "X_val = scale.transform(X_val)\n",
    "df_Kagg = scale.transform(df_Kagg)\n",
    "\n",
    "y_scale = StandardScaler()\n",
    "y_scale.fit(y_train.reshape(-1, 1))\n",
    "y_train = y_scale.transform(y_train.reshape(-1, 1))\n",
    "y_val_resc = y_scale.transform(y_val.reshape(-1, 1))\n",
    "\n",
    "df_Kagg"
   ]
  },
  {
   "cell_type": "markdown",
   "metadata": {},
   "source": [
    "# Recherche des paramétres opti du réseau"
   ]
  },
  {
   "cell_type": "code",
   "execution_count": null,
   "metadata": {},
   "outputs": [],
   "source": [
    "sgd = optimizers.SGD(lr=0.01, clipvalue=0.5)"
   ]
  },
  {
   "cell_type": "code",
   "execution_count": null,
   "metadata": {},
   "outputs": [],
   "source": [
    "def create_model():\n",
    "    model = Sequential()\n",
    "    model.add(Dense(200, input_dim=X_train.shape[1], kernel_regularizer=regularizers.l1(0.01)))\n",
    "    model.add(Activation('relu')) \n",
    "#     model.add(Dense(100, kernel_initializer='normal'))\n",
    "#     model.add(Activation('relu'))\n",
    "    model.add(Dense(1, kernel_initializer='normal',kernel_regularizer=regularizers.l1(0.01)))\n",
    "    model.compile(loss='mean_squared_error', optimizer=sgd)\n",
    "    return model"
   ]
  },
  {
   "cell_type": "code",
   "execution_count": null,
   "metadata": {},
   "outputs": [],
   "source": [
    "def BestParams():\n",
    "    estimators = []\n",
    "    #estimators.append(('pf', PolynomialFeatures(interaction_only=True,include_bias=False)))\n",
    "    estimators.append(('ss', StandardScaler()))\n",
    "    estimators.append(('nn', KerasRegressor(build_fn=create_model, epochs=10, batch_size=5, verbose=0)))\n",
    "    nn_pipe = Pipeline(estimators)\n",
    "\n",
    "    nn_param_grid = {'nn__epochs': [1000,1500,2000],'nn__batch_size':[5,100,200]}\n",
    "\n",
    "    gs_nn = GridSearchCV(nn_pipe, nn_param_grid,verbose=0, cv=3)\n",
    "    print('Ok')\n",
    "    gs_nn.fit(X_train, y_train)\n",
    "    return gs_nn.best_params_"
   ]
  },
  {
   "cell_type": "code",
   "execution_count": null,
   "metadata": {},
   "outputs": [],
   "source": [
    "X_train.shape, y_train.shape"
   ]
  },
  {
   "cell_type": "code",
   "execution_count": null,
   "metadata": {},
   "outputs": [],
   "source": [
    "if lookForOptimiz : \n",
    "    best = BestParams()\n",
    "    print(best)"
   ]
  },
  {
   "cell_type": "markdown",
   "metadata": {},
   "source": [
    "# Creation du modèle"
   ]
  },
  {
   "cell_type": "code",
   "execution_count": null,
   "metadata": {},
   "outputs": [],
   "source": [
    "model = create_model()"
   ]
  },
  {
   "cell_type": "code",
   "execution_count": null,
   "metadata": {},
   "outputs": [],
   "source": [
    "m_fti = model.fit(X_train, y_train, epochs=2000, batch_size=200)"
   ]
  },
  {
   "cell_type": "code",
   "execution_count": null,
   "metadata": {},
   "outputs": [],
   "source": [
    "DataFrame(m_fti.history).plot()\n",
    "plt.grid = True\n",
    "plt.show"
   ]
  },
  {
   "cell_type": "code",
   "execution_count": null,
   "metadata": {},
   "outputs": [],
   "source": [
    "X_val.shape"
   ]
  },
  {
   "cell_type": "code",
   "execution_count": null,
   "metadata": {},
   "outputs": [],
   "source": [
    "pred = model.predict(X_val)\n",
    "pred = y_scale.inverse_transform(pred)"
   ]
  },
  {
   "cell_type": "code",
   "execution_count": null,
   "metadata": {},
   "outputs": [],
   "source": [
    "RMSE = np.sqrt(MSE(pred,y_val))\n",
    "print(RMSE.round(4))"
   ]
  },
  {
   "cell_type": "code",
   "execution_count": null,
   "metadata": {},
   "outputs": [],
   "source": [
    "pred_kagg = model.predict(df_Kagg)"
   ]
  },
  {
   "cell_type": "code",
   "execution_count": null,
   "metadata": {},
   "outputs": [],
   "source": [
    "pred_kagg.shape"
   ]
  },
  {
   "cell_type": "code",
   "execution_count": null,
   "metadata": {},
   "outputs": [],
   "source": [
    "pred_kagg = y_scale.inverse_transform(pred_kagg)"
   ]
  },
  {
   "cell_type": "code",
   "execution_count": null,
   "metadata": {},
   "outputs": [],
   "source": [
    "pred_kagg\n"
   ]
  },
  {
   "cell_type": "code",
   "execution_count": null,
   "metadata": {},
   "outputs": [],
   "source": [
    "submission[\"SalePrice\"]= pred_kagg\n",
    "submission.to_csv(\"new_kagg10.csv\", index= False)"
   ]
  },
  {
   "cell_type": "code",
   "execution_count": null,
   "metadata": {},
   "outputs": [],
   "source": [
    "from IPython.display import Image\n",
    "Image('png/Neuro.png')"
   ]
  },
  {
   "cell_type": "raw",
   "metadata": {},
   "source": [
    "------ Résultat Kaggle 0.1309 ---------\n",
    "\n",
    "On est encore dans des valeurs de paramétre extréme, le modèle peut être encore optimisé\n",
    "Best param = batch_size': 200, 'epochs': 2000\n",
    "\n",
    "------ Résultat Kaggle 0.1347 ---------\n",
    "\n",
    "standardscaler aprés split et inverse_transform\n",
    "regularization l1 \n",
    "Best param = batch_size': 100, 'epochs': 1000\n",
    "\n",
    "------ Résultat Kaggle 0.16 ---------\n",
    "Best param = batch_size': 5, 'epochs': 500\n",
    "\n",
    "------ Précedent Kaggle 0.22 ---------"
   ]
  }
 ],
 "metadata": {
  "kernelspec": {
   "display_name": "Python 3",
   "language": "python",
   "name": "python3"
  },
  "language_info": {
   "codemirror_mode": {
    "name": "ipython",
    "version": 3
   },
   "file_extension": ".py",
   "mimetype": "text/x-python",
   "name": "python",
   "nbconvert_exporter": "python",
   "pygments_lexer": "ipython3",
   "version": "3.7.3"
  }
 },
 "nbformat": 4,
 "nbformat_minor": 2
}
