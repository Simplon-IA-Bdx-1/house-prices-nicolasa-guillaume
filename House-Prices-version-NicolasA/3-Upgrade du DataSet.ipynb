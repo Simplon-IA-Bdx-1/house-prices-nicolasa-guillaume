{
 "cells": [
  {
   "cell_type": "code",
   "execution_count": null,
   "metadata": {},
   "outputs": [],
   "source": [
    "import pandas as pd\n",
    "import numpy as np\n",
    "from matplotlib import pyplot as plt\n",
    "from sklearn.preprocessing import LabelEncoder\n",
    "from sklearn.metrics import mean_squared_error\n",
    "import seaborn as sns\n",
    "import xgboost"
   ]
  },
  {
   "cell_type": "code",
   "execution_count": null,
   "metadata": {},
   "outputs": [],
   "source": [
    "df_train = pd.read_csv('Basetrain.csv')\n",
    "df_test = pd.read_csv('kaggtest.csv')\n",
    "df_all = df_train.append(df_test)\n",
    "\n",
    "print(df_test.shape, df_train.shape, df_all.shape)"
   ]
  },
  {
   "cell_type": "code",
   "execution_count": null,
   "metadata": {},
   "outputs": [],
   "source": [
    "def null_values(df):\n",
    "    \n",
    "    sum_null = df.isnull().sum()\n",
    "    total = df.isnull().count()\n",
    "    percent_nullvalues = 100* sum_null / total \n",
    "    df_null = pd.DataFrame()\n",
    "    df_null['Total'] = total\n",
    "    df_null['Null_Count'] = sum_null\n",
    "    df_null['Percent'] = round(percent_nullvalues,2)\n",
    "    df_null = df_null.sort_values(by='Null_Count',ascending = False)\n",
    "    df_null = df_null[df_null.Null_Count > 0]\n",
    "    \n",
    "    return(df_null)\n",
    "null_values(df_all)"
   ]
  },
  {
   "cell_type": "code",
   "execution_count": null,
   "metadata": {},
   "outputs": [],
   "source": [
    "for col in ('PoolQC', 'MiscFeature', 'Alley', 'Fence', 'FireplaceQu', 'MasVnrType'):\n",
    "    df_all[col] = df_all[col].fillna('None')\n",
    "    \n",
    "for col in ('GarageType', 'GarageFinish', 'GarageQual', 'GarageCond', 'GarageType'):\n",
    "    df_all[col] = df_all[col].fillna('None')\n",
    "    \n",
    "for col in ('GarageYrBlt', 'GarageArea', 'GarageCars', 'MasVnrArea'):\n",
    "    df_all[col] = df_all[col].fillna(0)\n",
    "    \n",
    "for col in ('BsmtQual', 'BsmtCond', 'BsmtExposure', 'BsmtFinType1', 'BsmtFinType2'):\n",
    "    df_all[col] = df_all[col].fillna('None')    \n",
    "\n",
    "for col in ('BsmtFinSF1', 'BsmtFinSF2', 'BsmtUnfSF','TotalBsmtSF', 'BsmtFullBath', 'BsmtHalfBath'):\n",
    "    df_all[col] = df_all[col].fillna(0)"
   ]
  },
  {
   "cell_type": "code",
   "execution_count": null,
   "metadata": {},
   "outputs": [],
   "source": [
    "# La surface est une des features la plus importante en termes de prix    \n",
    "df_all['TotalSF'] = df_all['TotalBsmtSF'] + df_all['1stFlrSF'] + df_all['2ndFlrSF']\n",
    "\n",
    "null_values(df_all)\n",
    "\n",
    "df_all.Electrical.value_counts()\n",
    "\n",
    "df_all['Electrical'] = df_all['Electrical'].fillna('SBrkr')\n",
    "\n",
    "df_all['LotFrontage'] = df_all.groupby('BldgType')['LotFrontage'].transform(lambda x: x.fillna(x.median()))\n",
    "\n",
    "# NoSeWa est la seule dans le train. Je supprime les utilitaires\n",
    "df_all['Utilities'] = df_all.drop('Utilities', axis=1) \n",
    "\n",
    "# années et mois de vente sont transformé en features categories \n",
    "df_all.YrSold = df_all.YrSold.astype(str)\n",
    "df_all.MoSold = df_all.MoSold.astype(str)\n",
    "\n",
    "df_train = df_all[df_all.Id < 1461]\n",
    "df_test = df_all[df_all.Id >= 1461].drop('target', axis=1)\n",
    "null_values(df_train)\n",
    "\n",
    "null_values(df_test)"
   ]
  },
  {
   "cell_type": "code",
   "execution_count": null,
   "metadata": {},
   "outputs": [],
   "source": [
    "df_test['Exterior1st'] = df_test['Exterior1st'].fillna('VinylSd')\n",
    "df_test['Exterior2nd'] = df_test['Exterior2nd'].fillna('VinylSd')\n",
    "df_test['KitchenQual'] = df_test['KitchenQual'].fillna('TA')\n",
    "df_test['Functional'] = df_test['Functional'].fillna('Typ')\n",
    "df_test['MSZoning'] = df_test['MSZoning'].fillna('RL')\n",
    "df_test['SaleType'] = df_test['SaleType'].fillna('WD')\n",
    "\n",
    "cols = ( \n",
    "        'GarageType', 'GarageFinish', 'GarageQual', 'GarageCond', 'FireplaceQu', 'Electrical',\n",
    "        'PoolQC', 'MiscFeature', 'Alley', 'Fence', 'MasVnrType',\n",
    "        'BsmtQual', 'BsmtCond', 'BsmtExposure', 'BsmtFinType1', 'BsmtFinType2',\n",
    "        'ExterQual', 'ExterCond','HeatingQC','KitchenQual', 'Functional', 'MSZoning', 'LandContour',\n",
    "        'LandSlope', 'LotShape', 'PavedDrive', 'Street', 'CentralAir', 'LotConfig',\n",
    "        'Neighborhood', 'Condition1', 'Condition2', 'BldgType', 'HouseStyle', 'RoofStyle', 'RoofMatl',\n",
    "        'Exterior1st', 'Exterior2nd', 'Foundation', 'Heating', 'SaleType', 'SaleCondition',\n",
    "        'MSSubClass', 'OverallCond', 'YrSold', 'MoSold'\n",
    "        )\n",
    "\n",
    "# transformation des colonnes en categorie INT/FLOAT\n",
    "for i in cols:\n",
    "    lbl = LabelEncoder() \n",
    "    lbl.fit(list(df_train[i].values)) \n",
    "    df_train[i] = lbl.transform(list(df_train[i].values))\n",
    "    \n",
    "    lbl.fit(list(df_test[i].values)) \n",
    "    df_test[i] = lbl.transform(list(df_test[i].values))\n",
    "\n",
    "df_train['SalePriceLog'] = np.log(df_train.target)\n",
    "\n",
    "corr = df_train.corr().abs()\n",
    "corr.SalePriceLog[corr.SalePriceLog >= 0.5].sort_values(ascending=False)\n",
    "# +0.7 =relation trés fortes"
   ]
  },
  {
   "cell_type": "code",
   "execution_count": null,
   "metadata": {},
   "outputs": [],
   "source": [
    "plt.subplot2grid((2,1),(0,0))\n",
    "df_train.target.plot(kind='kde')\n",
    "plt.title('target')"
   ]
  },
  {
   "cell_type": "code",
   "execution_count": null,
   "metadata": {},
   "outputs": [],
   "source": [
    "plt.subplot2grid((2,1),(1,0))\n",
    "df_train.SalePriceLog.plot(kind='kde')\n",
    "plt.title('SalePriceLog')\n",
    "\n",
    "plt.subplots_adjust(hspace = 0.5, wspace = 0.3)\n",
    "plt.show() \n",
    "\n",
    "df_train.plot.scatter(x='OverallQual', y='SalePriceLog', color = 'green')\n",
    "plt.show()\n",
    "\n",
    "df_train.plot.scatter(x='TotalSF', y='SalePriceLog', color = 'green')\n",
    "plt.show()\n",
    "\n",
    "# correlation forte\n",
    "col = ['SalePriceLog', 'OverallQual', 'TotalSF', 'GrLivArea', 'GarageArea']\n",
    "sns.pairplot(df_train[col], height=2)\n",
    "plt.show()"
   ]
  },
  {
   "cell_type": "code",
   "execution_count": null,
   "metadata": {},
   "outputs": [],
   "source": [
    "y_train = df_train.SalePriceLog.values.reshape((1459,1))\n",
    "x_train = df_train.drop(['target','SalePriceLog'], axis=1).values.reshape((1459, 81))\n",
    "x_test = df_test.values.reshape((1459,81))"
   ]
  },
  {
   "cell_type": "code",
   "execution_count": null,
   "metadata": {},
   "outputs": [],
   "source": [
    "xgb = xgboost.XGBRegressor(colsample_bytree=0.8, subsample=0.5,\n",
    "                             learning_rate=0.05, max_depth=3, \n",
    "                             min_child_weight=1.8, n_estimators=2000,\n",
    "                             reg_alpha=0.1, reg_lambda=0.3, gamma=0.01, \n",
    "                             silent=1, random_state =7, nthread = -1)\n",
    "\n",
    "\n",
    "xgb.fit(x_train, y_train)\n",
    "xgb_pred = xgb.predict(x_test)\n",
    "y_test = xgb.predict(x_train)"
   ]
  },
  {
   "cell_type": "code",
   "execution_count": null,
   "metadata": {},
   "outputs": [],
   "source": [
    "RMSE = np.sqrt(mean_squared_error(y_train, y_test))\n",
    "print(RMSE.round(4))"
   ]
  },
  {
   "cell_type": "code",
   "execution_count": null,
   "metadata": {},
   "outputs": [],
   "source": [
    "submission = pd.DataFrame({\"Id\": df_test['Id'],\"SalePrice\": np.exp(xgb_pred)})"
   ]
  },
  {
   "cell_type": "code",
   "execution_count": null,
   "metadata": {},
   "outputs": [],
   "source": [
    "submission.to_csv(\"new_kagg1.csv\")"
   ]
  },
  {
   "cell_type": "code",
   "execution_count": null,
   "metadata": {},
   "outputs": [],
   "source": [
    "from IPython.display import Image\n",
    "Image(\"png/Kagg2.png\")\n"
   ]
  },
  {
   "cell_type": "code",
   "execution_count": null,
   "metadata": {},
   "outputs": [],
   "source": [
    "Image(\"png/idb2.png\")"
   ]
  },
  {
   "cell_type": "code",
   "execution_count": null,
   "metadata": {},
   "outputs": [],
   "source": [
    "df_test.to_csv(\"new_kaggtest.csv\")"
   ]
  },
  {
   "cell_type": "code",
   "execution_count": null,
   "metadata": {},
   "outputs": [],
   "source": []
  }
 ],
 "metadata": {
  "kernelspec": {
   "display_name": "Python 3",
   "language": "python",
   "name": "python3"
  },
  "language_info": {
   "codemirror_mode": {
    "name": "ipython",
    "version": 3
   },
   "file_extension": ".py",
   "mimetype": "text/x-python",
   "name": "python",
   "nbconvert_exporter": "python",
   "pygments_lexer": "ipython3",
   "version": "3.7.3"
  }
 },
 "nbformat": 4,
 "nbformat_minor": 2
}
