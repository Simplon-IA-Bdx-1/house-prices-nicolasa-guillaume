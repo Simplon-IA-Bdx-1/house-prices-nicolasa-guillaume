{
 "cells": [
  {
   "cell_type": "code",
   "execution_count": null,
   "metadata": {},
   "outputs": [],
   "source": [
    "import pandas as pd\n",
    "import numpy as np\n",
    "from matplotlib import pyplot as plt\n",
    "from sklearn.preprocessing import LabelEncoder\n",
    "from sklearn.metrics import mean_squared_error\n",
    "import seaborn as sns\n",
    "import xgboost\n",
    "from pandas import read_csv\n",
    "import pandas\n",
    "import numpy as np\n",
    "import matplotlib.pyplot as plt\n",
    "import csv"
   ]
  },
  {
   "cell_type": "code",
   "execution_count": null,
   "metadata": {},
   "outputs": [],
   "source": [
    "df_old = read_csv(\"Basetrain.csv\")"
   ]
  },
  {
   "cell_type": "code",
   "execution_count": null,
   "metadata": {},
   "outputs": [],
   "source": [
    "df_old.shape"
   ]
  },
  {
   "cell_type": "code",
   "execution_count": null,
   "metadata": {},
   "outputs": [],
   "source": [
    "df_new = read_csv(\"new_Basetrain.csv\")"
   ]
  },
  {
   "cell_type": "code",
   "execution_count": null,
   "metadata": {},
   "outputs": [],
   "source": [
    "df_new.shape"
   ]
  },
  {
   "cell_type": "code",
   "execution_count": null,
   "metadata": {},
   "outputs": [],
   "source": [
    "df_kagg = read_csv(\"new_kaggtest.csv\")"
   ]
  },
  {
   "cell_type": "code",
   "execution_count": null,
   "metadata": {},
   "outputs": [],
   "source": [
    "df_kagg.shape"
   ]
  },
  {
   "cell_type": "code",
   "execution_count": null,
   "metadata": {},
   "outputs": [],
   "source": [
    "# Pour avoir sous la main toutes les colonnes afin de copier/coller plus facilement\n",
    "for i in df_new :\n",
    "    print(i)"
   ]
  },
  {
   "cell_type": "code",
   "execution_count": null,
   "metadata": {},
   "outputs": [],
   "source": [
    "# supréssion des lignes dont les corrélations sont hors PCA (voir PCA factor notebooks 2-)\n",
    "x_list = [524,1299,636,186,183,170]\n",
    "for i in x_list :\n",
    "    df_new.drop(df_new[df_new.Id == i].index, inplace=True)"
   ]
  },
  {
   "cell_type": "code",
   "execution_count": null,
   "metadata": {},
   "outputs": [],
   "source": [
    "# Ajout de colonnes qui regroupent les metrics Garage 'qualitée' et les conditions du logement, sur le dataset train et test\n",
    "# de kaggle\n",
    "df_new[\"T_garage\"] = df_new[\"GarageCond\"]+df_new[\"GarageFinish\"]+df_new[\"GarageQual\"]+df_new[\"GarageCars\"]\n",
    "df_new[\"T_Overall\"] = df_new[\"OverallCond\"] + df_new[\"OverallQual\"]\n",
    "df_new[\"T_Ext\"] = df_new[\"ExterCond\"] + df_new[\"ExterQual\"]\n",
    "\n",
    "df_kagg[\"T_garage\"] = df_kagg[\"GarageCond\"]+df_kagg[\"GarageFinish\"]+df_kagg[\"GarageQual\"]+df_kagg[\"GarageCars\"]\n",
    "df_kagg[\"T_Overall\"] = df_kagg[\"OverallCond\"] + df_kagg[\"OverallQual\"]\n",
    "df_kagg[\"T_Ext\"] = df_kagg[\"ExterCond\"] + df_kagg[\"ExterQual\"]\n",
    "\n",
    "print(df_new[\"T_garage\"],df_new[\"T_Overall\"],df_kagg[\"T_garage\"],df_kagg[\"T_Overall\"])"
   ]
  },
  {
   "cell_type": "code",
   "execution_count": null,
   "metadata": {},
   "outputs": [],
   "source": [
    "df_new['SalePriceLog'] = np.log(df_new.target)"
   ]
  },
  {
   "cell_type": "code",
   "execution_count": null,
   "metadata": {},
   "outputs": [],
   "source": [
    "df_new.shape"
   ]
  },
  {
   "cell_type": "code",
   "execution_count": null,
   "metadata": {},
   "outputs": [],
   "source": [
    "df_kagg.shape"
   ]
  },
  {
   "cell_type": "code",
   "execution_count": null,
   "metadata": {},
   "outputs": [],
   "source": [
    "y_train = df_new.SalePriceLog.values.reshape((1453,1))\n",
    "x_train = df_new.drop(['target','SalePriceLog'], axis=1)\n",
    "x_test = df_kagg"
   ]
  },
  {
   "cell_type": "code",
   "execution_count": null,
   "metadata": {},
   "outputs": [],
   "source": [
    "xgb = xgboost.XGBRegressor(colsample_bytree=0.8, subsample=0.5,\n",
    "                             learning_rate=0.05, max_depth=3, \n",
    "                             min_child_weight=1.8, n_estimators=2000,\n",
    "                             reg_alpha=0.1, reg_lambda=0.3, gamma=0.01, \n",
    "                             silent=1, random_state =7, nthread = -1)\n",
    "\n",
    "\n",
    "xgb.fit(x_train, y_train)\n",
    "xgb_pred = xgb.predict(x_test)\n",
    "y_test = xgb.predict(x_train)"
   ]
  },
  {
   "cell_type": "code",
   "execution_count": null,
   "metadata": {},
   "outputs": [],
   "source": [
    "RMSE = np.sqrt(mean_squared_error(y_train, y_test))\n",
    "print(RMSE.round(4))"
   ]
  },
  {
   "cell_type": "code",
   "execution_count": null,
   "metadata": {},
   "outputs": [],
   "source": [
    "Image(\"png/4.png\")"
   ]
  },
  {
   "cell_type": "code",
   "execution_count": null,
   "metadata": {},
   "outputs": [],
   "source": [
    "Image(\"png/5.png\")"
   ]
  },
  {
   "cell_type": "code",
   "execution_count": null,
   "metadata": {},
   "outputs": [],
   "source": [
    "submission = pd.DataFrame({\"Id\": df_kagg['Id'],\"SalePrice\": np.exp(xgb_pred)})\n",
    "submission.to_csv(\"new_kagg2.csv\")"
   ]
  },
  {
   "cell_type": "code",
   "execution_count": null,
   "metadata": {},
   "outputs": [],
   "source": [
    "from IPython.display import Image\n",
    "Image(\"png/Kagg3.png\")"
   ]
  },
  {
   "cell_type": "code",
   "execution_count": null,
   "metadata": {},
   "outputs": [],
   "source": [
    "Image(\"png/idb3.png\")"
   ]
  },
  {
   "cell_type": "code",
   "execution_count": null,
   "metadata": {},
   "outputs": [],
   "source": [
    "df_new.to_csv(\"new_Basetrain.csv\")\n",
    "df_kagg.to_csv(\"new_kaggtest.csv\")"
   ]
  },
  {
   "cell_type": "markdown",
   "metadata": {},
   "source": [
    "# Persévérance"
   ]
  },
  {
   "cell_type": "code",
   "execution_count": null,
   "metadata": {},
   "outputs": [],
   "source": [
    "df_new = read_csv(\"new_Basetrain.csv\")\n",
    "df_kagg = read_csv(\"new_kaggtest.csv\")"
   ]
  },
  {
   "cell_type": "code",
   "execution_count": null,
   "metadata": {},
   "outputs": [],
   "source": [
    "df_new[\"T_heat\"] = df_kagg[\"Heating\"]+df_kagg[\"HeatingQC\"]\n",
    "df_new[\"T_Kittchen\"] = df_new[\"KitchenAbvGr\"] + df_new[\"KitchenQual\"]\n",
    "df_new[\"T_Condition\"] = df_new[\"Condition1\"] + df_new[\"Condition2\"]\n",
    "df_new[\"T_Ext\"] = df_new[\"ExterCond\"] + df_new[\"ExterQual\"]\n",
    "df_new[\"T_Land\"] = df_new[\"LandContour\"] + df_new[\"LandSlope\"]\n",
    "df_new[\"T_Roof\"] = df_new[\"RoofMatl\"] + df_new[\"RoofStyle\"]\n",
    "df_new[\"T_Fire\"] = df_new[\"FireplaceQu\"] + df_new[\"Fireplaces\"]\n",
    "df_new[\"T_Bsmt\"] = df_new[\"BsmtCond\"] + df_new[\"BsmtExposure\"] + df_new[\"BsmtQual\"]\n",
    "df_new[\"T_Yearsfake\"] = df_new[\"YearRemodAdd\"]-df_new[\"YearBuilt\"]\n",
    "\n",
    "df_kagg[\"T_heat\"] = df_kagg[\"Heating\"]+df_kagg[\"HeatingQC\"]\n",
    "df_kagg[\"T_Kittchen\"] = df_kagg[\"KitchenAbvGr\"] + df_kagg[\"KitchenQual\"]\n",
    "df_kagg[\"T_Condition\"] = df_kagg[\"Condition1\"] + df_kagg[\"Condition2\"]\n",
    "df_kagg[\"T_Ext\"] = df_kagg[\"ExterCond\"] + df_kagg[\"ExterQual\"]\n",
    "df_kagg[\"T_Land\"] = df_kagg[\"LandContour\"] + df_kagg[\"LandSlope\"]\n",
    "df_kagg[\"T_Roof\"] = df_kagg[\"RoofMatl\"] + df_kagg[\"RoofStyle\"]\n",
    "df_kagg[\"T_Fire\"] = df_kagg[\"FireplaceQu\"] + df_kagg[\"Fireplaces\"]\n",
    "df_kagg[\"T_Bsmt\"] = df_kagg[\"BsmtCond\"] + df_kagg[\"BsmtExposure\"] + df_kagg[\"BsmtQual\"]\n",
    "df_kagg[\"T_Yearsfake\"] = df_kagg[\"YearRemodAdd\"] - df_kagg[\"YearBuilt\"]\n",
    "\n",
    "df_new.drop(columns=\"PoolQC\")\n",
    "df_new.drop(columns=\"MiscFeature\")\n",
    "df_kagg.drop(columns=\"PoolQC\")\n",
    "df_kagg.drop(columns=\"MiscFeature\")\n",
    "\n",
    "df_new['SalePriceLog'] = np.log(df_new.target)"
   ]
  },
  {
   "cell_type": "markdown",
   "metadata": {},
   "source": [
    "# Impact sur la target des nouvelles features"
   ]
  },
  {
   "cell_type": "code",
   "execution_count": null,
   "metadata": {},
   "outputs": [],
   "source": [
    "Image(\"png/6.png\")"
   ]
  },
  {
   "cell_type": "code",
   "execution_count": null,
   "metadata": {},
   "outputs": [],
   "source": [
    "from IPython.display import Image\n",
    "Image(\"png/7.png\")"
   ]
  },
  {
   "cell_type": "code",
   "execution_count": null,
   "metadata": {},
   "outputs": [],
   "source": [
    "y_train = df_new.SalePriceLog.values.reshape((1453,1))\n",
    "x_train = df_new.drop(['target','SalePriceLog'], axis=1)\n",
    "x_test = df_kagg"
   ]
  },
  {
   "cell_type": "code",
   "execution_count": null,
   "metadata": {},
   "outputs": [],
   "source": [
    "xgb = xgboost.XGBRegressor(colsample_bytree=0.8, subsample=0.5,\n",
    "                             learning_rate=0.05, max_depth=3, \n",
    "                             min_child_weight=1.8, n_estimators=2000,\n",
    "                             reg_alpha=0.1, reg_lambda=0.3, gamma=0.01, \n",
    "                             silent=1, random_state =7, nthread = -1)\n",
    "\n",
    "\n",
    "xgb.fit(x_train, y_train)\n",
    "xgb_pred = xgb.predict(x_test)\n",
    "y_test = xgb.predict(x_train)"
   ]
  },
  {
   "cell_type": "code",
   "execution_count": null,
   "metadata": {},
   "outputs": [],
   "source": [
    "RMSE = np.sqrt(mean_squared_error(y_train, y_test))\n",
    "print(RMSE.round(4))"
   ]
  },
  {
   "cell_type": "code",
   "execution_count": null,
   "metadata": {},
   "outputs": [],
   "source": [
    "submission = pd.DataFrame({\"Id\": df_kagg['Id'],\"SalePrice\": np.exp(xgb_pred)})\n",
    "submission.to_csv(\"new_kagg4.csv\")"
   ]
  },
  {
   "cell_type": "raw",
   "metadata": {},
   "source": [
    "Cette opération de 'Persévérance' ne fait pas progresser le résultat Kaggle, elle fait un score inférieur, le dataset restera donc comme il était avant l étape perseverance. Il va falloir chercher d'autres piste."
   ]
  }
 ],
 "metadata": {
  "kernelspec": {
   "display_name": "Python 3",
   "language": "python",
   "name": "python3"
  },
  "language_info": {
   "codemirror_mode": {
    "name": "ipython",
    "version": 3
   },
   "file_extension": ".py",
   "mimetype": "text/x-python",
   "name": "python",
   "nbconvert_exporter": "python",
   "pygments_lexer": "ipython3",
   "version": "3.7.3"
  }
 },
 "nbformat": 4,
 "nbformat_minor": 2
}
