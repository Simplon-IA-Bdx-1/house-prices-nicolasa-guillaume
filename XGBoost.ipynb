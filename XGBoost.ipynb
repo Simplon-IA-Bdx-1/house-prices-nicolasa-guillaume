{
 "cells": [
  {
   "cell_type": "code",
   "execution_count": 215,
   "metadata": {},
   "outputs": [],
   "source": [
    "from sklearn.model_selection import train_test_split\n",
    "from pandas import DataFrame, read_csv\n",
    "from sklearn import metrics\n",
    "import matplotlib.pyplot as plt\n",
    "from mpl_toolkits.mplot3d import Axes3D\n",
    "from sklearn.metrics import mean_squared_log_error, mean_squared_error\n",
    "from sklearn.preprocessing import normalize, StandardScaler\n",
    "\n",
    "import xgboost\n",
    "from xgboost import plot_importance, XGBRegressor\n",
    "\n",
    "import numpy as np\n",
    "from math import sqrt\n",
    "\n",
    "%matplotlib inline"
   ]
  },
  {
   "cell_type": "code",
   "execution_count": 216,
   "metadata": {},
   "outputs": [],
   "source": [
    "project = 'house-prices'\n",
    "version='v0.1'"
   ]
  },
  {
   "cell_type": "code",
   "execution_count": 217,
   "metadata": {},
   "outputs": [],
   "source": [
    "fulltrain=read_csv('./train.csv',index_col=0)\n",
    "test=read_csv('./test.csv',index_col=0)\n",
    "fixed_seed=1234578416\n",
    "train80, valid20 = train_test_split(fulltrain, test_size=0.2, random_state=fixed_seed)"
   ]
  },
  {
   "cell_type": "code",
   "execution_count": 218,
   "metadata": {},
   "outputs": [],
   "source": [
    "train80_qual = train80.select_dtypes(exclude=np.number)\n",
    "valid20_qual = valid20.select_dtypes(exclude=np.number)\n",
    "test_qual = test.select_dtypes(exclude=np.number)\n",
    "train80 = train80.select_dtypes(include=np.number)\n",
    "valid20 = valid20.select_dtypes(include=np.number)\n",
    "test = test.select_dtypes(include=np.number)\n",
    "\n",
    "useless_fields=['MoSold', 'YrSold']\n",
    "\n",
    "train80.drop(useless_fields, axis=1, inplace=True)\n",
    "valid20.drop(useless_fields, axis=1, inplace=True)\n",
    "test.drop(useless_fields, axis=1, inplace=True)"
   ]
  },
  {
   "cell_type": "code",
   "execution_count": 219,
   "metadata": {},
   "outputs": [
    {
     "data": {
      "text/plain": [
       "Index(['MSSubClass', 'LotFrontage', 'LotArea', 'OverallQual', 'OverallCond',\n",
       "       'YearBuilt', 'YearRemodAdd', 'MasVnrArea', 'BsmtFinSF1', 'BsmtFinSF2',\n",
       "       'BsmtUnfSF', 'TotalBsmtSF', '1stFlrSF', '2ndFlrSF', 'LowQualFinSF',\n",
       "       'GrLivArea', 'BsmtFullBath', 'BsmtHalfBath', 'FullBath', 'HalfBath',\n",
       "       'BedroomAbvGr', 'KitchenAbvGr', 'TotRmsAbvGrd', 'Fireplaces',\n",
       "       'GarageYrBlt', 'GarageCars', 'GarageArea', 'WoodDeckSF', 'OpenPorchSF',\n",
       "       'EnclosedPorch', '3SsnPorch', 'ScreenPorch', 'PoolArea', 'MiscVal',\n",
       "       'SalePrice'],\n",
       "      dtype='object')"
      ]
     },
     "execution_count": 219,
     "metadata": {},
     "output_type": "execute_result"
    }
   ],
   "source": [
    "train80.columns"
   ]
  },
  {
   "cell_type": "code",
   "execution_count": 220,
   "metadata": {},
   "outputs": [],
   "source": [
    "train80.loc[:,'SalePrice']=np.log(train80.loc[:,'SalePrice'])\n",
    "valid20.loc[:,'SalePrice']=np.log(valid20.loc[:,'SalePrice'])"
   ]
  },
  {
   "cell_type": "code",
   "execution_count": 221,
   "metadata": {},
   "outputs": [],
   "source": [
    "mean_price_neigh={}\n",
    "for name in list(train80_qual.Neighborhood.unique()):\n",
    "    mean_price_neigh[name]=train80.loc[train80_qual['Neighborhood']==name,'SalePrice'].mean()\n",
    "    \n",
    "for name in list(train80_qual.Neighborhood.unique()):\n",
    "    train80.loc[train80_qual['Neighborhood']==name,'mean_price']=mean_price_neigh[name]\n",
    "    valid20.loc[valid20_qual['Neighborhood']==name,'mean_price']=mean_price_neigh[name]\n",
    "    test.loc[test_qual['Neighborhood']==name,'mean_price']=mean_price_neigh[name]\n",
    "\n",
    "# train80_qual['Neighborhood']\n",
    "#mean_price_neigh"
   ]
  },
  {
   "cell_type": "code",
   "execution_count": 222,
   "metadata": {},
   "outputs": [],
   "source": [
    "mean = {}\n",
    "mode = {}\n",
    "median ={}\n",
    "for column in list(train80.columns):\n",
    "    mean[column]=train80[column].mean()\n",
    "    mode[column]=train80[column].mode()\n",
    "    median[column]=train80[column].median()"
   ]
  },
  {
   "cell_type": "code",
   "execution_count": 223,
   "metadata": {},
   "outputs": [],
   "source": [
    "target_column='SalePrice'\n",
    "X_train = train80.drop(target_column, axis=1)\n",
    "y_train = train80[target_column]\n",
    "X_val = valid20.drop(target_column, axis=1)\n",
    "y_val = valid20[target_column]"
   ]
  },
  {
   "cell_type": "markdown",
   "metadata": {},
   "source": [
    "Surface Area"
   ]
  },
  {
   "cell_type": "code",
   "execution_count": 224,
   "metadata": {},
   "outputs": [],
   "source": [
    "# normalization\n",
    "scaler = StandardScaler()\n",
    "scaler.fit(X_train)\n",
    "\n",
    "    \n",
    "for df in [X_train, X_val, test]:\n",
    "    #for column in list(train80.columns):\n",
    "    #    df.fillna(0, inplace=True)        \n",
    "    scaler.transform(df, copy=False)"
   ]
  },
  {
   "cell_type": "code",
   "execution_count": 225,
   "metadata": {},
   "outputs": [],
   "source": [
    "for df in [X_train, X_val, test]:\n",
    "    df['Surface1'] =  df['2ndFlrSF'] * 0.67918 + df['1stFlrSF'] * 0.15835 + df['TotalBsmtSF'] * 0.56624\n",
    "    df['Surface2'] =  df['1stFlrSF'] * 0.51 + df['TotalBsmtSF'] * 0.35\n",
    "#    df.drop('2ndFlrSF', axis=1, inplace=True)\n",
    "#    df.drop('1stFlrSF', axis=1, inplace=True)\n",
    "#    df.drop('TotalBsmtSF', axis=1, inplace=True)\n",
    "    df.drop('GrLivArea', axis=1, inplace=True)"
   ]
  },
  {
   "cell_type": "code",
   "execution_count": 226,
   "metadata": {},
   "outputs": [],
   "source": [
    "model = XGBRegressor(booster=\"gbtree\")"
   ]
  },
  {
   "cell_type": "code",
   "execution_count": 227,
   "metadata": {},
   "outputs": [
    {
     "data": {
      "text/plain": [
       "XGBRegressor(base_score=0.5, booster='gbtree', colsample_bylevel=1,\n",
       "             colsample_bytree=1, gamma=0, learning_rate=0.1, max_delta_step=0,\n",
       "             max_depth=3, min_child_weight=1, missing=None, n_estimators=100,\n",
       "             n_jobs=1, nthread=None, objective='reg:linear', random_state=0,\n",
       "             reg_alpha=0, reg_lambda=1, scale_pos_weight=1, seed=None,\n",
       "             silent=True, subsample=1)"
      ]
     },
     "execution_count": 227,
     "metadata": {},
     "output_type": "execute_result"
    }
   ],
   "source": [
    "model.fit(X_train,y_train)"
   ]
  },
  {
   "cell_type": "code",
   "execution_count": 228,
   "metadata": {},
   "outputs": [],
   "source": [
    "y_pred = model.predict(X_val)"
   ]
  },
  {
   "cell_type": "code",
   "execution_count": 229,
   "metadata": {},
   "outputs": [
    {
     "data": {
      "text/plain": [
       "0.13413262961828934"
      ]
     },
     "execution_count": 229,
     "metadata": {},
     "output_type": "execute_result"
    }
   ],
   "source": [
    "RMSLE = sqrt(mean_squared_error(y_val,y_pred))\n",
    "RMSLE"
   ]
  },
  {
   "cell_type": "code",
   "execution_count": 230,
   "metadata": {},
   "outputs": [],
   "source": [
    "test_pred = model.predict(test)"
   ]
  },
  {
   "cell_type": "code",
   "execution_count": 231,
   "metadata": {},
   "outputs": [],
   "source": [
    "submission = DataFrame({\"Id\":test.index, \"SalePrice\": np.exp (test_pred)})"
   ]
  },
  {
   "cell_type": "code",
   "execution_count": null,
   "metadata": {},
   "outputs": [],
   "source": []
  }
 ],
 "metadata": {
  "kernelspec": {
   "display_name": "Python 3",
   "language": "python",
   "name": "python3"
  },
  "language_info": {
   "codemirror_mode": {
    "name": "ipython",
    "version": 3
   },
   "file_extension": ".py",
   "mimetype": "text/x-python",
   "name": "python",
   "nbconvert_exporter": "python",
   "pygments_lexer": "ipython3",
   "version": "3.7.4"
  }
 },
 "nbformat": 4,
 "nbformat_minor": 2
}
