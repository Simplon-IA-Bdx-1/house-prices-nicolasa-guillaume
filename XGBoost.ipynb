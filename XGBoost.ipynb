{
 "cells": [
  {
   "cell_type": "code",
   "execution_count": 158,
   "metadata": {},
   "outputs": [],
   "source": [
    "from sklearn.model_selection import train_test_split\n",
    "from pandas import DataFrame, read_csv, concat, get_dummies\n",
    "from sklearn import metrics\n",
    "import matplotlib.pyplot as plt\n",
    "from mpl_toolkits.mplot3d import Axes3D\n",
    "from sklearn.metrics import mean_squared_log_error, mean_squared_error\n",
    "from sklearn.preprocessing import normalize, StandardScaler, LabelEncoder, OneHotEncoder, OrdinalEncoder\n",
    "import xgboost\n",
    "from xgboost import plot_importance, XGBRegressor\n",
    "from pprint import pprint\n",
    "from json import load\n",
    "\n",
    "import numpy as np\n",
    "from math import sqrt\n",
    "\n",
    "%matplotlib inline"
   ]
  },
  {
   "cell_type": "code",
   "execution_count": 159,
   "metadata": {},
   "outputs": [],
   "source": [
    "project = 'house-prices'\n",
    "version='v0.1'"
   ]
  },
  {
   "cell_type": "code",
   "execution_count": 160,
   "metadata": {},
   "outputs": [],
   "source": [
    "fulltrain=read_csv('./train.csv',index_col=0)\n",
    "test=read_csv('./test.csv',index_col=0)\n",
    "fixed_seed=1234578416\n",
    "train80, valid20 = train_test_split(fulltrain, test_size=0.2, random_state=fixed_seed)"
   ]
  },
  {
   "cell_type": "code",
   "execution_count": 161,
   "metadata": {},
   "outputs": [
    {
     "data": {
      "text/plain": [
       "{'MSSubClass': [20,\n",
       "  30,\n",
       "  40,\n",
       "  45,\n",
       "  50,\n",
       "  60,\n",
       "  70,\n",
       "  75,\n",
       "  80,\n",
       "  85,\n",
       "  90,\n",
       "  120,\n",
       "  150,\n",
       "  160,\n",
       "  180,\n",
       "  190],\n",
       " 'MSZoning': ['A', 'C', 'FV', 'I', 'RH', 'RL', 'RP', 'RM'],\n",
       " 'Street': ['Grvl', 'Pave'],\n",
       " 'Alley': ['Grvl', 'Pave', 'NA'],\n",
       " 'LotShape': ['Reg', 'IR1', 'IR2', 'IR3'],\n",
       " 'LandContour': ['Lvl', 'Bnk', 'HLS', 'Low'],\n",
       " 'Utilities': ['AllPub', 'NoSewr', 'NoSeWa', 'ELO'],\n",
       " 'LotConfig': ['Inside', 'Corner', 'CulDSac', 'FR2', 'FR3'],\n",
       " 'LandSlope': ['Gtl', 'Mod', 'Sev'],\n",
       " 'Neighborhood': ['Blmngtn',\n",
       "  'Blueste',\n",
       "  'BrDale',\n",
       "  'BrkSide',\n",
       "  'ClearCr',\n",
       "  'CollgCr',\n",
       "  'Crawfor',\n",
       "  'Edwards',\n",
       "  'Gilbert',\n",
       "  'IDOTRR',\n",
       "  'MeadowV',\n",
       "  'Mitchel',\n",
       "  'Names',\n",
       "  'NoRidge',\n",
       "  'NPkVill',\n",
       "  'NridgHt',\n",
       "  'NWAmes',\n",
       "  'OldTown',\n",
       "  'SWISU',\n",
       "  'Sawyer',\n",
       "  'SawyerW',\n",
       "  'Somerst',\n",
       "  'StoneBr',\n",
       "  'Timber',\n",
       "  'Veenker'],\n",
       " 'Condition1': ['Artery',\n",
       "  'Feedr',\n",
       "  'Norm',\n",
       "  'RRNn',\n",
       "  'RRAn',\n",
       "  'PosN',\n",
       "  'PosA',\n",
       "  'RRNe',\n",
       "  'RRAe'],\n",
       " 'Condition2': ['Artery',\n",
       "  'Feedr',\n",
       "  'Norm',\n",
       "  'RRNn',\n",
       "  'RRAn',\n",
       "  'PosN',\n",
       "  'PosA',\n",
       "  'RRNe',\n",
       "  'RRAe'],\n",
       " 'BldgType': ['1Fam', '2FmCon', 'Duplx', 'TwnhsE', 'TwnhsI'],\n",
       " 'HouseStyle': ['1Story',\n",
       "  '1.5Fin',\n",
       "  '1.5Unf',\n",
       "  '2Story',\n",
       "  '2.5Fin',\n",
       "  '2.5Unf',\n",
       "  'SFoyer',\n",
       "  'SLvl'],\n",
       " 'OverallQual': [10, 9, 8, 7, 6, 5, 4, 3, 2, 1],\n",
       " 'OverallCond': [10, 9, 8, 7, 6, 5, 4, 3, 2, 1],\n",
       " 'RoofStyle': ['Flat', 'Gable', 'Gambrel', 'Hip', 'Mansard', 'Shed'],\n",
       " 'RoofMatl': ['ClyTile',\n",
       "  'CompShg',\n",
       "  'Membran',\n",
       "  'Metal',\n",
       "  'Roll',\n",
       "  'Tar',\n",
       "  'WdShake',\n",
       "  'WdShngl'],\n",
       " 'Exterior1st': ['AsbShng',\n",
       "  'AsphShn',\n",
       "  'BrkComm',\n",
       "  'BrkFace',\n",
       "  'CBlock',\n",
       "  'CemntBd',\n",
       "  'HdBoard',\n",
       "  'ImStucc',\n",
       "  'MetalSd',\n",
       "  'Other',\n",
       "  'Plywood',\n",
       "  'PreCast',\n",
       "  'Stone',\n",
       "  'Stucco',\n",
       "  'VinylSd',\n",
       "  'Wd',\n",
       "  'WdShing'],\n",
       " 'Exterior2nd': ['AsbShng',\n",
       "  'AsphShn',\n",
       "  'BrkComm',\n",
       "  'BrkFace',\n",
       "  'CBlock',\n",
       "  'CemntBd',\n",
       "  'HdBoard',\n",
       "  'ImStucc',\n",
       "  'MetalSd',\n",
       "  'Other',\n",
       "  'Plywood',\n",
       "  'PreCast',\n",
       "  'Stone',\n",
       "  'Stucco',\n",
       "  'VinylSd',\n",
       "  'Wd',\n",
       "  'WdShing'],\n",
       " 'MasVnrType': ['BrkCmn', 'BrkFace', 'CBlock', 'None', 'Stone'],\n",
       " 'ExterQual': ['Ex', 'Gd', 'TA', 'Fa', 'Po'],\n",
       " 'ExterCond': ['Ex', 'Gd', 'TA', 'Fa', 'Po'],\n",
       " 'Foundation': ['BrkTil', 'CBlock', 'PConc', 'Slab', 'Stone', 'Wood'],\n",
       " 'BsmtQual': ['Ex', 'Gd', 'TA', 'Fa', 'Po', 'NA'],\n",
       " 'BsmtCond': ['Ex', 'Gd', 'TA', 'Fa', 'Po', 'NA'],\n",
       " 'BsmtExposure': ['Gd', 'Av', 'Mn', 'No', 'NA'],\n",
       " 'BsmtFinType1': ['GLQ', 'ALQ', 'BLQ', 'Rec', 'LwQ', 'Unf', 'NA'],\n",
       " 'BsmtFinType2': ['GLQ', 'ALQ', 'BLQ', 'Rec', 'LwQ', 'Unf', 'NA'],\n",
       " 'Heating': ['Floor', 'GasA', 'GasW', 'Grav', 'OthW', 'Wall'],\n",
       " 'HeatingQC': ['Ex', 'Gd', 'TA', 'Fa', 'Po'],\n",
       " 'CentralAir': ['N', 'Y'],\n",
       " 'Electrical': ['SBrkr', 'FuseA', 'FuseF', 'FuseP', 'Mix'],\n",
       " 'KitchenQual': ['Ex', 'Gd', 'TA', 'Fa', 'Po'],\n",
       " 'Functional': ['Typ', 'Min1', 'Min2', 'Mod', 'Maj1', 'Maj2', 'Sev', 'Sal'],\n",
       " 'FireplaceQu': ['Ex', 'Gd', 'TA', 'Fa', 'Po', 'NA'],\n",
       " 'GarageType': ['2Types',\n",
       "  'Attchd',\n",
       "  'Basment',\n",
       "  'BuiltIn',\n",
       "  'CarPort',\n",
       "  'Detchd',\n",
       "  'NA'],\n",
       " 'GarageFinish': ['Fin', 'RFn', 'Unf', 'NA'],\n",
       " 'GarageQual': ['Ex', 'Gd', 'TA', 'Fa', 'Po', 'NA'],\n",
       " 'GarageCond': ['Ex', 'Gd', 'TA', 'Fa', 'Po', 'NA'],\n",
       " 'PavedDrive': ['Y', 'P', 'N'],\n",
       " 'PoolQC': ['Ex', 'Gd', 'TA', 'Fa', 'NA'],\n",
       " 'Fence': ['GdPrv', 'MnPrv', 'GdWo', 'MnWw', 'NA'],\n",
       " 'MiscFeature': ['Elev', 'Gar2', 'Othr', 'Shed', 'TenC', 'NA'],\n",
       " 'SaleType': ['WD',\n",
       "  'CWD',\n",
       "  'VWD',\n",
       "  'New',\n",
       "  'COD',\n",
       "  'Con',\n",
       "  'ConLw',\n",
       "  'ConLI',\n",
       "  'ConLD',\n",
       "  'Oth'],\n",
       " 'SaleCondition': ['Normal',\n",
       "  'Abnorml',\n",
       "  'AdjLand',\n",
       "  'Alloca',\n",
       "  'Family',\n",
       "  'Partial']}"
      ]
     },
     "execution_count": 161,
     "metadata": {},
     "output_type": "execute_result"
    }
   ],
   "source": [
    "categories = load(open('categories.json',\"r\"))\n",
    "categories"
   ]
  },
  {
   "cell_type": "code",
   "execution_count": 162,
   "metadata": {},
   "outputs": [
    {
     "name": "stderr",
     "output_type": "stream",
     "text": [
      "/home/guillaume/.virtualenvs/House-Prices/lib/python3.7/site-packages/pandas/core/frame.py:3940: SettingWithCopyWarning: \n",
      "A value is trying to be set on a copy of a slice from a DataFrame\n",
      "\n",
      "See the caveats in the documentation: http://pandas.pydata.org/pandas-docs/stable/indexing.html#indexing-view-versus-copy\n",
      "  errors=errors)\n"
     ]
    }
   ],
   "source": [
    "\n",
    "#train80_qual = train80.select_dtypes(exclude=np.number)\n",
    "#valid20_qual = valid20.select_dtypes(exclude=np.number)\n",
    "#test_qual = test.select_dtypes(exclude=np.number)\n",
    "#train80 = train80.select_dtypes(include=np.number)\n",
    "#valid20 = valid20.select_dtypes(include=np.number)\n",
    "#test = test.select_dtypes(include=np.number)\n",
    "\n",
    "useless_fields=['MoSold', 'YrSold','Utilities']\n",
    "\n",
    "train80.drop(useless_fields, axis=1, inplace=True)\n",
    "valid20.drop(useless_fields, axis=1, inplace=True)\n",
    "test.drop(useless_fields, axis=1, inplace=True)\n",
    "\n",
    "for key in useless_fields:\n",
    "    categories.pop(key, None)\n",
    "\n",
    "qual_columns = list(categories.keys())"
   ]
  },
  {
   "cell_type": "code",
   "execution_count": 163,
   "metadata": {},
   "outputs": [
    {
     "data": {
      "text/plain": [
       "['MSSubClass',\n",
       " 'MSZoning',\n",
       " 'Street',\n",
       " 'Alley',\n",
       " 'LotShape',\n",
       " 'LandContour',\n",
       " 'LotConfig',\n",
       " 'LandSlope',\n",
       " 'Neighborhood',\n",
       " 'Condition1',\n",
       " 'Condition2',\n",
       " 'BldgType',\n",
       " 'HouseStyle',\n",
       " 'OverallQual',\n",
       " 'OverallCond',\n",
       " 'RoofStyle',\n",
       " 'RoofMatl',\n",
       " 'Exterior1st',\n",
       " 'Exterior2nd',\n",
       " 'MasVnrType',\n",
       " 'ExterQual',\n",
       " 'ExterCond',\n",
       " 'Foundation',\n",
       " 'BsmtQual',\n",
       " 'BsmtCond',\n",
       " 'BsmtExposure',\n",
       " 'BsmtFinType1',\n",
       " 'BsmtFinType2',\n",
       " 'Heating',\n",
       " 'HeatingQC',\n",
       " 'CentralAir',\n",
       " 'Electrical',\n",
       " 'KitchenQual',\n",
       " 'Functional',\n",
       " 'FireplaceQu',\n",
       " 'GarageType',\n",
       " 'GarageFinish',\n",
       " 'GarageQual',\n",
       " 'GarageCond',\n",
       " 'PavedDrive',\n",
       " 'PoolQC',\n",
       " 'Fence',\n",
       " 'MiscFeature',\n",
       " 'SaleType',\n",
       " 'SaleCondition']"
      ]
     },
     "execution_count": 163,
     "metadata": {},
     "output_type": "execute_result"
    }
   ],
   "source": [
    "qual_columns"
   ]
  },
  {
   "cell_type": "code",
   "execution_count": 164,
   "metadata": {},
   "outputs": [
    {
     "data": {
      "text/plain": [
       "Index(['MSSubClass', 'MSZoning', 'LotFrontage', 'LotArea', 'Street', 'Alley',\n",
       "       'LotShape', 'LandContour', 'LotConfig', 'LandSlope', 'Neighborhood',\n",
       "       'Condition1', 'Condition2', 'BldgType', 'HouseStyle', 'OverallQual',\n",
       "       'OverallCond', 'YearBuilt', 'YearRemodAdd', 'RoofStyle', 'RoofMatl',\n",
       "       'Exterior1st', 'Exterior2nd', 'MasVnrType', 'MasVnrArea', 'ExterQual',\n",
       "       'ExterCond', 'Foundation', 'BsmtQual', 'BsmtCond', 'BsmtExposure',\n",
       "       'BsmtFinType1', 'BsmtFinSF1', 'BsmtFinType2', 'BsmtFinSF2', 'BsmtUnfSF',\n",
       "       'TotalBsmtSF', 'Heating', 'HeatingQC', 'CentralAir', 'Electrical',\n",
       "       '1stFlrSF', '2ndFlrSF', 'LowQualFinSF', 'GrLivArea', 'BsmtFullBath',\n",
       "       'BsmtHalfBath', 'FullBath', 'HalfBath', 'BedroomAbvGr', 'KitchenAbvGr',\n",
       "       'KitchenQual', 'TotRmsAbvGrd', 'Functional', 'Fireplaces',\n",
       "       'FireplaceQu', 'GarageType', 'GarageYrBlt', 'GarageFinish',\n",
       "       'GarageCars', 'GarageArea', 'GarageQual', 'GarageCond', 'PavedDrive',\n",
       "       'WoodDeckSF', 'OpenPorchSF', 'EnclosedPorch', '3SsnPorch',\n",
       "       'ScreenPorch', 'PoolArea', 'PoolQC', 'Fence', 'MiscFeature', 'MiscVal',\n",
       "       'SaleType', 'SaleCondition', 'SalePrice'],\n",
       "      dtype='object')"
      ]
     },
     "execution_count": 164,
     "metadata": {},
     "output_type": "execute_result"
    }
   ],
   "source": [
    "train80.columns"
   ]
  },
  {
   "cell_type": "code",
   "execution_count": 165,
   "metadata": {},
   "outputs": [
    {
     "name": "stderr",
     "output_type": "stream",
     "text": [
      "/home/guillaume/.virtualenvs/House-Prices/lib/python3.7/site-packages/IPython/core/interactiveshell.py:3326: FutureWarning: specifying 'categories' or 'ordered' in .astype() is deprecated; pass a CategoricalDtype instead\n",
      "  exec(code_obj, self.user_global_ns, self.user_ns)\n",
      "/home/guillaume/.virtualenvs/House-Prices/lib/python3.7/site-packages/pandas/core/indexing.py:543: SettingWithCopyWarning: \n",
      "A value is trying to be set on a copy of a slice from a DataFrame.\n",
      "Try using .loc[row_indexer,col_indexer] = value instead\n",
      "\n",
      "See the caveats in the documentation: http://pandas.pydata.org/pandas-docs/stable/indexing.html#indexing-view-versus-copy\n",
      "  self.obj[item] = s\n"
     ]
    }
   ],
   "source": [
    "for category in categories.keys():\n",
    "    # print(categories[category])\n",
    "    train80.loc[:,category] = train80[category].astype('category',categories=categories[category])\n",
    "    valid20.loc[:,category] = valid20[category].astype('category',categories=categories[category])\n",
    "    test.loc[:,category] = test[category].astype('category',categories=categories[category])"
   ]
  },
  {
   "cell_type": "markdown",
   "metadata": {},
   "source": [
    "Remove outliers"
   ]
  },
  {
   "cell_type": "code",
   "execution_count": 166,
   "metadata": {},
   "outputs": [],
   "source": [
    "train80 = train80.drop(train80[train80.LotArea > 200000].index)\n",
    "#valid20 = valid20.drop(valid20[valid20.LotArea > 200000].index)\n",
    "\n",
    "train80 = train80.drop(train80[train80.LotFrontage > 250].index)\n",
    "#valid20 = valid20.drop(valid20[valid20.LotFrontage > 250].index)"
   ]
  },
  {
   "cell_type": "code",
   "execution_count": 167,
   "metadata": {},
   "outputs": [],
   "source": [
    "train80.loc[:,'SalePrice']=np.log(train80.loc[:,'SalePrice'])\n",
    "valid20.loc[:,'SalePrice']=np.log(valid20.loc[:,'SalePrice'])"
   ]
  },
  {
   "cell_type": "code",
   "execution_count": 168,
   "metadata": {},
   "outputs": [
    {
     "name": "stderr",
     "output_type": "stream",
     "text": [
      "/home/guillaume/.virtualenvs/House-Prices/lib/python3.7/site-packages/pandas/core/indexing.py:362: SettingWithCopyWarning: \n",
      "A value is trying to be set on a copy of a slice from a DataFrame.\n",
      "Try using .loc[row_indexer,col_indexer] = value instead\n",
      "\n",
      "See the caveats in the documentation: http://pandas.pydata.org/pandas-docs/stable/indexing.html#indexing-view-versus-copy\n",
      "  self.obj[key] = _infer_fill_value(value)\n"
     ]
    }
   ],
   "source": [
    "mean_price_neigh={}\n",
    "for name in list(train80.Neighborhood.unique()):\n",
    "    mean_price_neigh[name]=train80.loc[train80['Neighborhood']==name,'SalePrice'].mean()\n",
    "    \n",
    "for name in list(train80.Neighborhood.unique()):\n",
    "    train80.loc[train80['Neighborhood']==name,'mean_price']=mean_price_neigh[name]\n",
    "    valid20.loc[valid20['Neighborhood']==name,'mean_price']=mean_price_neigh[name]\n",
    "    test.loc[test['Neighborhood']==name,'mean_price']=mean_price_neigh[name]\n",
    "\n",
    "# train80_qual['Neighborhood']\n",
    "#mean_price_neigh"
   ]
  },
  {
   "cell_type": "code",
   "execution_count": 169,
   "metadata": {},
   "outputs": [],
   "source": [
    "mean = {}\n",
    "mode = {}\n",
    "median ={}\n",
    "for column in list(train80.columns):\n",
    "    if column not in qual_columns:\n",
    "        mean[column]=train80[column].mean()\n",
    "        mode[column]=train80[column].mode()\n",
    "        median[column]=train80[column].median()"
   ]
  },
  {
   "cell_type": "code",
   "execution_count": 170,
   "metadata": {},
   "outputs": [],
   "source": [
    "target_column='SalePrice'\n",
    "X_train = train80.drop(target_column, axis=1)\n",
    "y_train = train80[target_column]\n",
    "X_val = valid20.drop(target_column, axis=1)\n",
    "y_val = valid20[target_column]"
   ]
  },
  {
   "cell_type": "code",
   "execution_count": 171,
   "metadata": {},
   "outputs": [],
   "source": [
    "for df in [X_train, X_val, test]:\n",
    "    df.loc[:,'Exterior1st'] = df['Exterior1st'].fillna('VinylSd')\n",
    "    df.loc[:,'Exterior2nd'] = df['Exterior2nd'].fillna('VinylSd')\n",
    "    df.loc[:,'KitchenQual'] = df['KitchenQual'].fillna('TA')\n",
    "    df.loc[:,'Functional'] = df['Functional'].fillna('Typ')\n",
    "    df.loc[:,'MSZoning'] = df['MSZoning'].fillna('RL')\n",
    "    df.loc[:,'SaleType'] = df['SaleType'].fillna('WD')\n",
    "#    for col in ('PoolQC', 'MiscFeature', 'Alley', 'Fence', 'FireplaceQu', 'MasVnrType'):\n",
    "#        df.loc[:,col] = df[col].fillna('None')\n",
    "    \n",
    "#    for col in ('GarageType', 'GarageFinish', 'GarageQual', 'GarageCond', 'GarageType'):\n",
    "#        df.loc[:,col] = df[col].fillna('None')\n",
    "    \n",
    "    for col in ('GarageYrBlt', 'GarageArea', 'GarageCars', 'MasVnrArea'):\n",
    "        df.loc[:,col] = df[col].fillna(0)\n",
    "    \n",
    "#    for col in ('BsmtQual', 'BsmtCond', 'BsmtExposure', 'BsmtFinType1', 'BsmtFinType2'):\n",
    "#        df.loc[:,col] = df[col].fillna('None')    \n",
    "\n",
    "    for col in ('BsmtFinSF1', 'BsmtFinSF2', 'BsmtUnfSF','TotalBsmtSF', 'BsmtFullBath', 'BsmtHalfBath'):\n",
    "        df.loc[:,col] = df[col].fillna(0)\n",
    "        \n",
    "    df.loc[:,'Electrical'] = df['Electrical'].fillna('SBrkr')\n",
    "    \n",
    "    #df = df.fillna(0)"
   ]
  },
  {
   "cell_type": "code",
   "execution_count": null,
   "metadata": {},
   "outputs": [],
   "source": []
  },
  {
   "cell_type": "code",
   "execution_count": 172,
   "metadata": {},
   "outputs": [],
   "source": [
    "#X_train = get_dummies(X_train, columns=qual_columns, drop_first=True)\n",
    "#X_val = get_dummies(X_val, columns=qual_columns, drop_first=True)\n",
    "#test = get_dummies(test, columns=qual_columns, drop_first=True)\n",
    "\n"
   ]
  },
  {
   "cell_type": "code",
   "execution_count": 173,
   "metadata": {},
   "outputs": [
    {
     "data": {
      "text/plain": [
       "Index(['MSSubClass', 'MSZoning', 'LotFrontage', 'LotArea', 'Street', 'Alley',\n",
       "       'LotShape', 'LandContour', 'LotConfig', 'LandSlope', 'Neighborhood',\n",
       "       'Condition1', 'Condition2', 'BldgType', 'HouseStyle', 'OverallQual',\n",
       "       'OverallCond', 'YearBuilt', 'YearRemodAdd', 'RoofStyle', 'RoofMatl',\n",
       "       'Exterior1st', 'Exterior2nd', 'MasVnrType', 'MasVnrArea', 'ExterQual',\n",
       "       'ExterCond', 'Foundation', 'BsmtQual', 'BsmtCond', 'BsmtExposure',\n",
       "       'BsmtFinType1', 'BsmtFinSF1', 'BsmtFinType2', 'BsmtFinSF2', 'BsmtUnfSF',\n",
       "       'TotalBsmtSF', 'Heating', 'HeatingQC', 'CentralAir', 'Electrical',\n",
       "       '1stFlrSF', '2ndFlrSF', 'LowQualFinSF', 'GrLivArea', 'BsmtFullBath',\n",
       "       'BsmtHalfBath', 'FullBath', 'HalfBath', 'BedroomAbvGr', 'KitchenAbvGr',\n",
       "       'KitchenQual', 'TotRmsAbvGrd', 'Functional', 'Fireplaces',\n",
       "       'FireplaceQu', 'GarageType', 'GarageYrBlt', 'GarageFinish',\n",
       "       'GarageCars', 'GarageArea', 'GarageQual', 'GarageCond', 'PavedDrive',\n",
       "       'WoodDeckSF', 'OpenPorchSF', 'EnclosedPorch', '3SsnPorch',\n",
       "       'ScreenPorch', 'PoolArea', 'PoolQC', 'Fence', 'MiscFeature', 'MiscVal',\n",
       "       'SaleType', 'SaleCondition', 'mean_price'],\n",
       "      dtype='object')"
      ]
     },
     "execution_count": 173,
     "metadata": {},
     "output_type": "execute_result"
    }
   ],
   "source": [
    "X_train.columns"
   ]
  },
  {
   "cell_type": "code",
   "execution_count": null,
   "metadata": {
    "deletable": false,
    "editable": false,
    "run_control": {
     "frozen": true
    }
   },
   "outputs": [],
   "source": [
    "full = concat([X_train, X_val, test])\n",
    "for col in qual_columns:\n",
    "    # print(col)\n",
    "    lbl = LabelEncoder()\n",
    "    values = full[col].values\n",
    "    lbl.fit(values)\n",
    "    for df in [X_train, X_val, test]:\n",
    "        df[col]=lbl.transform(df[col].values)\n",
    "        "
   ]
  },
  {
   "cell_type": "code",
   "execution_count": 174,
   "metadata": {},
   "outputs": [
    {
     "name": "stdout",
     "output_type": "stream",
     "text": [
      "Index(['MSSubClass', 'MSZoning', 'LotFrontage', 'LotArea', 'Street', 'Alley',\n",
      "       'LotShape', 'LandContour', 'LotConfig', 'LandSlope', 'Neighborhood',\n",
      "       'Condition1', 'Condition2', 'BldgType', 'HouseStyle', 'OverallQual',\n",
      "       'OverallCond', 'YearBuilt', 'YearRemodAdd', 'RoofStyle', 'RoofMatl',\n",
      "       'Exterior1st', 'Exterior2nd', 'MasVnrType', 'MasVnrArea', 'ExterQual',\n",
      "       'ExterCond', 'Foundation', 'BsmtQual', 'BsmtCond', 'BsmtExposure',\n",
      "       'BsmtFinType1', 'BsmtFinSF1', 'BsmtFinType2', 'BsmtFinSF2', 'BsmtUnfSF',\n",
      "       'TotalBsmtSF', 'Heating', 'HeatingQC', 'CentralAir', 'Electrical',\n",
      "       '1stFlrSF', '2ndFlrSF', 'LowQualFinSF', 'GrLivArea', 'BsmtFullBath',\n",
      "       'BsmtHalfBath', 'FullBath', 'HalfBath', 'BedroomAbvGr', 'KitchenAbvGr',\n",
      "       'KitchenQual', 'TotRmsAbvGrd', 'Functional', 'Fireplaces',\n",
      "       'FireplaceQu', 'GarageType', 'GarageYrBlt', 'GarageFinish',\n",
      "       'GarageCars', 'GarageArea', 'GarageQual', 'GarageCond', 'PavedDrive',\n",
      "       'WoodDeckSF', 'OpenPorchSF', 'EnclosedPorch', '3SsnPorch',\n",
      "       'ScreenPorch', 'PoolArea', 'PoolQC', 'Fence', 'MiscFeature', 'MiscVal',\n",
      "       'SaleType', 'SaleCondition', 'SalePrice', 'mean_price'],\n",
      "      dtype='object')\n"
     ]
    }
   ],
   "source": [
    "#for category in categories.keys():\n",
    "X_train = concat([X_train,\n",
    "                  get_dummies(X_train[list(categories.keys())])\n",
    "                 ],axis=1).drop(list(categories.keys()),axis=1)\n",
    "X_val = concat([X_val,\n",
    "                  get_dummies(X_val[list(categories.keys())])\n",
    "                 ],axis=1).drop(list(categories.keys()),axis=1)\n",
    "test = concat([test,\n",
    "                  get_dummies(test[list(categories.keys())])\n",
    "                 ],axis=1).drop(list(categories.keys()),axis=1)\n",
    "pprint(train80.columns)"
   ]
  },
  {
   "cell_type": "markdown",
   "metadata": {},
   "source": [
    "Surface Area"
   ]
  },
  {
   "cell_type": "code",
   "execution_count": 175,
   "metadata": {},
   "outputs": [],
   "source": [
    "for df in [X_train, X_val, test]:\n",
    "    # df['Surface1'] =  df['2ndFlrSF'] * 0.67918 + df['1stFlrSF'] * 0.15835 + df['TotalBsmtSF'] * 0.56624\n",
    "    # df['Surface2'] =  df['1stFlrSF'] * 0.51 + df['TotalBsmtSF'] * 0.35\n",
    "    df['Surface'] =  df['2ndFlrSF'] + df['1stFlrSF'] + df['TotalBsmtSF']\n",
    "#    df.drop('2ndFlrSF', axis=1, inplace=True)\n",
    "#    df.drop('1stFlrSF', axis=1, inplace=True)\n",
    "#    df.drop('TotalBsmtSF', axis=1, inplace=True)\n",
    "    df.drop('GrLivArea', axis=1, inplace=True)\n",
    "#    df['Garage'] = df['GarageCond'] + df['GarageFinish'] + df['GarageQual'] + df['GarageCars']"
   ]
  },
  {
   "cell_type": "code",
   "execution_count": 176,
   "metadata": {},
   "outputs": [],
   "source": [
    "# normalization\n",
    "scaler = StandardScaler()\n",
    "scaler.fit(X_train)\n",
    "\n",
    "X_train[:] = scaler.transform(X_train)\n",
    "X_val[:] = scaler.transform(X_val)\n",
    "test[:] = scaler.transform(test)"
   ]
  },
  {
   "cell_type": "code",
   "execution_count": 177,
   "metadata": {},
   "outputs": [],
   "source": [
    "X_train.to_csv('X_train.csv')\n",
    "X_val.to_csv('X_val.csv')\n",
    "test.to_csv('X_test.csv')\n",
    "y_train.to_csv('y_train.csv', header=True)\n",
    "y_val.to_csv('y_val.csv', header=True)\n",
    "#, X_val, X_test\n",
    "#y_train y_val"
   ]
  },
  {
   "cell_type": "code",
   "execution_count": 178,
   "metadata": {},
   "outputs": [],
   "source": [
    "model = XGBRegressor(booster=\"gbtree\",colsample_bytree=0.5,\n",
    " max_depth=3, n_estimators=400, subsample=0.7)"
   ]
  },
  {
   "cell_type": "code",
   "execution_count": 179,
   "metadata": {},
   "outputs": [
    {
     "data": {
      "text/plain": [
       "XGBRegressor(base_score=0.5, booster='gbtree', colsample_bylevel=1,\n",
       "             colsample_bytree=0.5, gamma=0, learning_rate=0.1, max_delta_step=0,\n",
       "             max_depth=3, min_child_weight=1, missing=None, n_estimators=400,\n",
       "             n_jobs=1, nthread=None, objective='reg:linear', random_state=0,\n",
       "             reg_alpha=0, reg_lambda=1, scale_pos_weight=1, seed=None,\n",
       "             silent=True, subsample=0.7)"
      ]
     },
     "execution_count": 179,
     "metadata": {},
     "output_type": "execute_result"
    }
   ],
   "source": [
    "model.fit(X_train,y_train)"
   ]
  },
  {
   "cell_type": "code",
   "execution_count": 180,
   "metadata": {},
   "outputs": [],
   "source": [
    "y_pred = model.predict(X_val)"
   ]
  },
  {
   "cell_type": "code",
   "execution_count": 181,
   "metadata": {},
   "outputs": [
    {
     "data": {
      "text/plain": [
       "0.13355800729298178"
      ]
     },
     "execution_count": 181,
     "metadata": {},
     "output_type": "execute_result"
    }
   ],
   "source": [
    "RMSLE = sqrt(mean_squared_error(y_val,y_pred))\n",
    "RMSLE"
   ]
  },
  {
   "cell_type": "code",
   "execution_count": 182,
   "metadata": {},
   "outputs": [],
   "source": [
    "test_pred = model.predict(test)"
   ]
  },
  {
   "cell_type": "code",
   "execution_count": 183,
   "metadata": {},
   "outputs": [],
   "source": [
    "submission = DataFrame({\"SalePrice\": np.exp (test_pred)}, index=test.index)\n",
    "submission.to_csv('test-prediction.csv')"
   ]
  },
  {
   "cell_type": "code",
   "execution_count": null,
   "metadata": {},
   "outputs": [],
   "source": []
  }
 ],
 "metadata": {
  "kernelspec": {
   "display_name": "Python 3",
   "language": "python",
   "name": "python3"
  },
  "language_info": {
   "codemirror_mode": {
    "name": "ipython",
    "version": 3
   },
   "file_extension": ".py",
   "mimetype": "text/x-python",
   "name": "python",
   "nbconvert_exporter": "python",
   "pygments_lexer": "ipython3",
   "version": "3.7.4"
  }
 },
 "nbformat": 4,
 "nbformat_minor": 2
}
