{
 "cells": [
  {
   "cell_type": "code",
   "execution_count": null,
   "metadata": {},
   "outputs": [],
   "source": [
    "from sklearn.model_selection import train_test_split\n",
    "from pandas import DataFrame, read_csv, concat, get_dummies, Series, CategoricalDtype\n",
    "from sklearn import metrics\n",
    "import matplotlib.pyplot as plt\n",
    "from mpl_toolkits.mplot3d import Axes3D\n",
    "from sklearn.metrics import mean_squared_log_error, mean_squared_error\n",
    "from sklearn.preprocessing import normalize, StandardScaler, LabelEncoder, OneHotEncoder, OrdinalEncoder, FunctionTransformer\n",
    "from sklearn.ensemble import IsolationForest\n",
    "from sklearn.manifold import TSNE\n",
    "from sklearn.model_selection import GridSearchCV\n",
    "from sklearn.pipeline import Pipeline, TransformerMixin\n",
    "from sklearn.impute import SimpleImputer\n",
    "from sklearn.compose import ColumnTransformer\n",
    "from sklearn.base import BaseEstimator\n",
    "import xgboost\n",
    "from xgboost import plot_importance, XGBRegressor\n",
    "from pprint import pprint\n",
    "from json import load\n",
    "import seaborn as sns\n",
    "import numpy as np\n",
    "from math import sqrt\n",
    "\n",
    "%matplotlib inline"
   ]
  },
  {
   "cell_type": "code",
   "execution_count": null,
   "metadata": {},
   "outputs": [],
   "source": [
    "project = 'house-prices'\n",
    "version='v0.1'"
   ]
  },
  {
   "cell_type": "code",
   "execution_count": null,
   "metadata": {},
   "outputs": [],
   "source": [
    "fulltrain=read_csv('./train.csv',index_col=0)\n",
    "test=read_csv('./test.csv',index_col=0)\n",
    "fixed_seed=1234578416\n",
    "train80, valid20 = train_test_split(fulltrain, test_size=0.2, random_state=fixed_seed)"
   ]
  },
  {
   "cell_type": "code",
   "execution_count": null,
   "metadata": {},
   "outputs": [],
   "source": [
    "target_column='SalePrice'\n",
    "X_train = train80.drop(target_column, axis=1)\n",
    "y_train = train80[target_column]\n",
    "X_val = valid20.drop(target_column, axis=1)\n",
    "y_val = valid20[target_column]"
   ]
  },
  {
   "cell_type": "code",
   "execution_count": null,
   "metadata": {},
   "outputs": [],
   "source": [
    "categories = load(open('categories.json',\"r\"))"
   ]
  },
  {
   "cell_type": "code",
   "execution_count": null,
   "metadata": {},
   "outputs": [],
   "source": [
    "num_columns = [c for c in X_train.columns if c not in categories.keys()]"
   ]
  },
  {
   "cell_type": "code",
   "execution_count": null,
   "metadata": {},
   "outputs": [],
   "source": [
    "ordinals={}\n",
    "for key, value in list(categories.items()):\n",
    "    if value[0] == 'Ex':\n",
    "        ordinals[key] = value\n",
    "        categories.pop(key)\n",
    "for col, tags in ordinals.items():\n",
    "    tags.reverse()\n",
    "    \n",
    "ord_columns = list(ordinals.keys())\n",
    "ord_values = list(ordinals.values())\n",
    "cat_columns = list(categories.keys())\n",
    "cat_values = list(categories.keys())"
   ]
  },
  {
   "cell_type": "code",
   "execution_count": null,
   "metadata": {},
   "outputs": [],
   "source": [
    "ordinals.values()"
   ]
  },
  {
   "cell_type": "code",
   "execution_count": null,
   "metadata": {},
   "outputs": [],
   "source": [
    "# for col in ord_columns:\n",
    "#     print(X_train[col].unique())\n",
    "# for col in cat_columns:\n",
    "#     print(X_train[col].unique())"
   ]
  },
  {
   "cell_type": "markdown",
   "metadata": {},
   "source": [
    "Ordinal Encoding"
   ]
  },
  {
   "cell_type": "code",
   "execution_count": null,
   "metadata": {},
   "outputs": [],
   "source": [
    "ordinal_pipe = Pipeline([\n",
    "    ('imputer', SimpleImputer(strategy='most_frequent')),\n",
    "    ('encoder', OrdinalEncoder(categories=ord_values))\n",
    "])"
   ]
  },
  {
   "cell_type": "code",
   "execution_count": null,
   "metadata": {},
   "outputs": [],
   "source": [
    "categorical_pipe = Pipeline([\n",
    "    ('imputer', SimpleImputer(strategy='most_frequent')),\n",
    "#    ('imputer', SimpleImputer(strategy='constant', fill_value='NA')),\n",
    "    ('onehot', OneHotEncoder(handle_unknown=\"ignore\"))\n",
    "])"
   ]
  },
  {
   "cell_type": "code",
   "execution_count": null,
   "metadata": {},
   "outputs": [],
   "source": [
    "numeric_pipe = Pipeline([\n",
    "    ('imputer', SimpleImputer(strategy='median')),\n",
    "    ('scaler', StandardScaler())\n",
    "])"
   ]
  },
  {
   "cell_type": "code",
   "execution_count": null,
   "metadata": {},
   "outputs": [],
   "source": [
    "preprocess_pipe = ColumnTransformer([\n",
    "    ('cat', categorical_pipe, cat_columns),\n",
    "    ('num', numeric_pipe, num_columns),\n",
    "    ('ord', ordinal_pipe, ord_columns)\n",
    "])"
   ]
  },
  {
   "cell_type": "markdown",
   "metadata": {},
   "source": [
    "## Removing outliers"
   ]
  },
  {
   "cell_type": "code",
   "execution_count": null,
   "metadata": {},
   "outputs": [],
   "source": [
    "outlier_detection = Pipeline([\n",
    "    ('pp', preprocess_pipe),\n",
    "    ('outlier', IsolationForest(max_samples=100, random_state=42))\n",
    "])"
   ]
  },
  {
   "cell_type": "code",
   "execution_count": null,
   "metadata": {},
   "outputs": [],
   "source": [
    "outliers = outlier_detection.fit_predict(X_train)\n",
    "\n",
    "X_train_clean = X_train.loc[outliers==1,:]\n",
    "y_train_clean = y_train.loc[outliers==1]"
   ]
  },
  {
   "cell_type": "markdown",
   "metadata": {},
   "source": [
    "## Preprocess Train, Test and Valid sets"
   ]
  },
  {
   "cell_type": "code",
   "execution_count": null,
   "metadata": {},
   "outputs": [],
   "source": [
    "X_train_process = preprocess_pipe.fit_transform(X_train_clean)\n",
    "test_process = preprocess_pipe.transform(test)\n",
    "X_valid_process = preprocess_pipe.transform(X_val)"
   ]
  },
  {
   "cell_type": "markdown",
   "metadata": {},
   "source": [
    "## Output processing"
   ]
  },
  {
   "cell_type": "code",
   "execution_count": null,
   "metadata": {},
   "outputs": [],
   "source": [
    "output_pipe = Pipeline([\n",
    "    ('log', FunctionTransformer(np.log)),\n",
    "    ('scaler', StandardScaler())\n",
    "])"
   ]
  },
  {
   "cell_type": "code",
   "execution_count": null,
   "metadata": {},
   "outputs": [],
   "source": [
    "output_pipe.fit(y_train.to_numpy().reshape(-1,1))\n",
    "y_train_process = output_pipe.transform(y_train.to_numpy().reshape(-1,1))\n",
    "y_val_process = output_pipe.transform(y_val.to_numpy().reshape(-1,1))"
   ]
  },
  {
   "cell_type": "markdown",
   "metadata": {},
   "source": [
    "Surface Area"
   ]
  },
  {
   "cell_type": "code",
   "execution_count": null,
   "metadata": {},
   "outputs": [],
   "source": [
    "class AddSurface(TransformerMixin, BaseEstimator):\n",
    "    "
   ]
  },
  {
   "cell_type": "code",
   "execution_count": null,
   "metadata": {},
   "outputs": [],
   "source": [
    "for df in [X_train, X_val, test]:\n",
    "    df['Surface'] =  df['2ndFlrSF'] + df['1stFlrSF'] + df['TotalBsmtSF']\n",
    "    df.drop('GrLivArea', axis=1, inplace=True)"
   ]
  },
  {
   "cell_type": "code",
   "execution_count": null,
   "metadata": {},
   "outputs": [],
   "source": [
    "for df in [X_train, X_val, test]:\n",
    "    na_sum = df.isna().sum()\n",
    "    print(na_sum[na_sum!=0])"
   ]
  },
  {
   "cell_type": "markdown",
   "metadata": {},
   "source": [
    "# Outliers detection"
   ]
  },
  {
   "cell_type": "code",
   "execution_count": null,
   "metadata": {},
   "outputs": [],
   "source": [
    "clf = IsolationForest(max_samples=100, random_state=42, behaviour='new')\n",
    "clf.fit(X_train)\n",
    "y_pred_train = DataFrame(data=clf.predict(X_train),index=X_train.index)\n",
    "y_pred_train_str = ('C' + y_pred_train.astype('str'))[0]\n",
    "tsne = TSNE(n_components=2)\n",
    "X_tsne = tsne.fit_transform(X_train)\n",
    "plt.figure(figsize=(16,12))\n",
    "ax =sns.scatterplot(x=X_tsne[:,0], y=X_tsne[:,1], hue=y_pred_train_str)"
   ]
  },
  {
   "cell_type": "markdown",
   "metadata": {},
   "source": [
    "Removing outliers"
   ]
  },
  {
   "cell_type": "code",
   "execution_count": null,
   "metadata": {},
   "outputs": [],
   "source": [
    "isnotoutlier = (y_pred_train[0]==1)\n",
    "X_train = X_train.loc[isnotoutlier,:]\n",
    "y_train = y_train.loc[isnotoutlier]\n",
    "nb_outliers = (y_pred_train[0]==-1).sum()\n",
    "print('There was ' + str(nb_outliers) + ' outliers')"
   ]
  },
  {
   "cell_type": "code",
   "execution_count": null,
   "metadata": {},
   "outputs": [],
   "source": [
    "zero_cols=X_train.columns[( X_train == 0).all()]\n",
    "display(zero_cols)"
   ]
  },
  {
   "cell_type": "code",
   "execution_count": null,
   "metadata": {},
   "outputs": [],
   "source": [
    "for df in [X_train, X_val, test]:\n",
    "    df.drop(columns=zero_cols, inplace=True)"
   ]
  },
  {
   "cell_type": "code",
   "execution_count": null,
   "metadata": {},
   "outputs": [],
   "source": [
    "# normalization\n",
    "scaler = StandardScaler()\n",
    "scaler.fit(X_train)\n",
    "\n",
    "X_train[:] = scaler.transform(X_train)\n",
    "X_val[:] = scaler.transform(X_val)\n",
    "test[:] = scaler.transform(test)"
   ]
  },
  {
   "cell_type": "markdown",
   "metadata": {},
   "source": [
    "Removing empty columns\n",
    "\n",
    "TODO remove constant columns"
   ]
  },
  {
   "cell_type": "code",
   "execution_count": null,
   "metadata": {},
   "outputs": [],
   "source": [
    "zero_cols = X_train.columns[( X_train == 0).all()]\n",
    "display(zero_cols)\n",
    "for df in [X_train, X_val, test]:\n",
    "    df.drop(columns=zero_cols, inplace=True)\n",
    "X_train.shape"
   ]
  },
  {
   "cell_type": "markdown",
   "metadata": {},
   "source": [
    "Gridsearch hyperparameters estimation"
   ]
  },
  {
   "cell_type": "code",
   "execution_count": null,
   "metadata": {},
   "outputs": [],
   "source": [
    "# from hypopt import GridSearch\n",
    "# params = {'min_child_weight':[6,7,8,9], 'gamma':[i/100.0 for i in range(1,5)],  'subsample':[i/10.0 for i in range(2,5)],\n",
    "# 'colsample_bytree':[i/10.0 for i in range(8,10)], 'max_depth': [3,4,5]}\n",
    "\n",
    "# model = XGBRegressor(booster=\"gbtree\")\n",
    "# grid = GridSearch(model, params)\n",
    "# grid.fit(X_train, y_train, X_val, y_val)\n",
    "# grid.best_params"
   ]
  },
  {
   "cell_type": "markdown",
   "metadata": {},
   "source": [
    "XGBoost model"
   ]
  },
  {
   "cell_type": "code",
   "execution_count": null,
   "metadata": {},
   "outputs": [],
   "source": [
    "model = XGBRegressor(booster=\"gbtree\",colsample_bytree=0.9,\n",
    "                     max_depth=4, n_estimators=400, gamma= 0.01,\n",
    "                     min_child_weight=8,\n",
    "                     subsample=0.3)"
   ]
  },
  {
   "cell_type": "code",
   "execution_count": null,
   "metadata": {},
   "outputs": [],
   "source": [
    "# model = XGBRegressor(booster=\"gbtree\",colsample_bytree=0.5,\n",
    "#                      max_depth=3, n_estimators=400, subsample=0.7)"
   ]
  },
  {
   "cell_type": "code",
   "execution_count": null,
   "metadata": {},
   "outputs": [],
   "source": [
    "model.fit(X_train,y_train)"
   ]
  },
  {
   "cell_type": "code",
   "execution_count": null,
   "metadata": {},
   "outputs": [],
   "source": [
    "y_pred = model.predict(X_val)"
   ]
  },
  {
   "cell_type": "code",
   "execution_count": null,
   "metadata": {},
   "outputs": [],
   "source": [
    "RMSLE = sqrt(mean_squared_error(y_val,y_pred))\n",
    "RMSLE"
   ]
  },
  {
   "cell_type": "code",
   "execution_count": null,
   "metadata": {},
   "outputs": [],
   "source": [
    "test_pred = model.predict(test)"
   ]
  },
  {
   "cell_type": "code",
   "execution_count": null,
   "metadata": {},
   "outputs": [],
   "source": [
    "submission = DataFrame({\"SalePrice\": np.exp (test_pred)}, index=test.index)\n",
    "submission.to_csv('test-prediction.csv')"
   ]
  },
  {
   "cell_type": "code",
   "execution_count": null,
   "metadata": {},
   "outputs": [],
   "source": [
    "sns.distplot(y_pred-y_val)\n",
    "plt.show()"
   ]
  },
  {
   "cell_type": "code",
   "execution_count": null,
   "metadata": {},
   "outputs": [],
   "source": [
    "y_t_pred = model.predict(X_train)\n",
    "print(sqrt(mean_squared_error(y_train,y_t_pred)))\n",
    "sns.distplot(y_t_pred-y_train)\n",
    "plt.show()"
   ]
  },
  {
   "cell_type": "markdown",
   "metadata": {},
   "source": [
    "# Feature importance\n",
    "Feature importance as reported by XGBoost"
   ]
  },
  {
   "cell_type": "code",
   "execution_count": null,
   "metadata": {},
   "outputs": [],
   "source": [
    "importance_dict = model.get_booster().get_score(importance_type=\"gain\")\n",
    "importance = DataFrame.from_dict(importance_dict, orient='index')[0].sort_values(ascending=False)\n",
    "order = list(importance.index)"
   ]
  },
  {
   "cell_type": "code",
   "execution_count": null,
   "metadata": {},
   "outputs": [],
   "source": [
    "nb_bars = 25\n",
    "\n",
    "plt.figure(figsize=(18,20))\n",
    "plt.subplots_adjust(hspace=0.5)\n",
    "for i in range(0,2):\n",
    "    plt.subplot(4,1,i+1)\n",
    "    low = nb_bars*i\n",
    "    hi = nb_bars*(i+1)\n",
    "    bars = sns.barplot(x=importance[low:hi].index, y=importance[low:hi])\n",
    "    bars.set_xticklabels(bars.get_xticklabels(), rotation=45)\n",
    "plt.show()"
   ]
  },
  {
   "cell_type": "markdown",
   "metadata": {},
   "source": [
    "Reordering features by importance"
   ]
  },
  {
   "cell_type": "code",
   "execution_count": null,
   "metadata": {},
   "outputs": [],
   "source": [
    "X_train = X_train[order]\n",
    "X_val = X_val[order]\n",
    "test = test[order]\n",
    "X_train.shape"
   ]
  },
  {
   "cell_type": "markdown",
   "metadata": {},
   "source": [
    "Save prepared datasets"
   ]
  },
  {
   "cell_type": "code",
   "execution_count": null,
   "metadata": {},
   "outputs": [],
   "source": [
    "X_train.to_csv('X_train.csv')\n",
    "X_val.to_csv('X_val.csv')\n",
    "test.to_csv('X_test.csv')\n",
    "y_train.to_csv('y_train.csv', header=True)\n",
    "y_val.to_csv('y_val.csv', header=True)"
   ]
  },
  {
   "cell_type": "code",
   "execution_count": null,
   "metadata": {},
   "outputs": [],
   "source": []
  },
  {
   "cell_type": "code",
   "execution_count": null,
   "metadata": {},
   "outputs": [],
   "source": []
  }
 ],
 "metadata": {
  "kernelspec": {
   "display_name": "Python 3",
   "language": "python",
   "name": "python3"
  },
  "language_info": {
   "codemirror_mode": {
    "name": "ipython",
    "version": 3
   },
   "file_extension": ".py",
   "mimetype": "text/x-python",
   "name": "python",
   "nbconvert_exporter": "python",
   "pygments_lexer": "ipython3",
   "version": "3.7.5"
  }
 },
 "nbformat": 4,
 "nbformat_minor": 2
}
