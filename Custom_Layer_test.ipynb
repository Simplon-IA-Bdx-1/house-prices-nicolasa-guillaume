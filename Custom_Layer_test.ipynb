{
 "cells": [
  {
   "cell_type": "code",
   "execution_count": null,
   "metadata": {},
   "outputs": [],
   "source": [
    "from pandas import DataFrame, read_csv\n",
    "from matplotlib import pyplot as plt\n",
    "from sklearn.metrics import mean_squared_error, accuracy_score\n",
    "from sklearn.preprocessing import StandardScaler\n",
    "from sklearn.decomposition import PCA\n",
    "from numpy import transpose\n",
    "import numpy as np\n",
    "from math import sqrt\n",
    "import tensorflow as tf\n",
    "from tensorflow.keras.layers import Dense, Activation, Input, Dropout\n",
    "from tensorflow.keras.models import Sequential\n",
    "from tensorflow.keras import regularizers\n",
    "from tensorflow.keras.optimizers import SGD,RMSprop,Adam\n",
    "from tensorflow.keras.constraints import max_norm\n",
    "from time import time\n",
    "import seaborn as sns"
   ]
  },
  {
   "cell_type": "code",
   "execution_count": null,
   "metadata": {},
   "outputs": [],
   "source": [
    "X_train_df = read_csv('X_train.csv', index_col=0)\n",
    "X_val_df = read_csv('X_val.csv', index_col=0)\n",
    "test_df = read_csv('X_test.csv', index_col=0)\n",
    "y_train_df = read_csv('y_train.csv', index_col=0)\n",
    "y_val_df = read_csv('y_val.csv', index_col=0)"
   ]
  },
  {
   "cell_type": "code",
   "execution_count": null,
   "metadata": {},
   "outputs": [],
   "source": [
    "scaler_Y = StandardScaler()\n",
    "scaler_Y.fit(y_train_df)\n",
    "\n",
    "y_train = scaler_Y.transform(y_train_df)\n",
    "y_val = scaler_Y.transform(y_val_df)"
   ]
  },
  {
   "cell_type": "code",
   "execution_count": null,
   "metadata": {},
   "outputs": [],
   "source": [
    "scaler_Y = StandardScaler()\n",
    "scaler_Y.fit(y_train_df)\n",
    "\n",
    "y_train = scaler_Y.transform(y_train_df)\n",
    "y_val = scaler_Y.transform(y_val_df)"
   ]
  },
  {
   "cell_type": "code",
   "execution_count": null,
   "metadata": {},
   "outputs": [],
   "source": [
    "X_train = X_train_df.values.astype(float)\n",
    "X_val = X_val_df.values.astype(float)\n",
    "test = test_df.values.astype(float)"
   ]
  },
  {
   "cell_type": "code",
   "execution_count": null,
   "metadata": {},
   "outputs": [],
   "source": [
    "nb_features = 50 # 24\n",
    "X_train = X_train[:,:nb_features]\n",
    "X_val = X_val[:,:nb_features]\n",
    "test = test[:,:nb_features]"
   ]
  },
  {
   "cell_type": "code",
   "execution_count": null,
   "metadata": {},
   "outputs": [],
   "source": [
    "def get_reg_model():\n",
    "    return Sequential([\n",
    "                    Input(shape=X_train.shape[1]),\n",
    "                    Dense(1)\n",
    "])"
   ]
  },
  {
   "cell_type": "code",
   "execution_count": null,
   "metadata": {},
   "outputs": [],
   "source": [
    "from tensorflow.keras.layers import Layer\n",
    "from tensorflow.keras import backend as K\n",
    "from tensorflow.keras import initializers, regularizers, constraints\n",
    "\n",
    "class Poly(Layer):\n",
    "   \n",
    "    def __init__(self, \n",
    "                 **kwargs):\n",
    "        super(Poly, self).__init__(**kwargs)\n",
    "        \n",
    "          \n",
    "    def build(self, input_shape):\n",
    "        param_shape = list(input_shape[1:])\n",
    "        self.alpha = self.add_weight(shape=param_shape,\n",
    "                                     name='alpha',\n",
    "                                     initializer='zeros',\n",
    "#                                     regularizer=regularizers.l1_l2(0.001, 0.001),\n",
    "                                     constraint=max_norm(3))\n",
    "\n",
    "#         self.beta = self.add_weight(shape=param_shape,\n",
    "#                                     name='beta',\n",
    "#                                     initializer='zeros')\n",
    "#         self.gamma = self.add_weight(shape=(1,),\n",
    "#                                     name='gamma',\n",
    "#                                     initializer='zeros')\n",
    "        self.beta = 1\n",
    "        \n",
    "        #self.input_spec = InputSpec(ndim=len(input_shape))\n",
    "        self.built = True\n",
    "\n",
    "    def call(self, inputs, mask=None):\n",
    "        return self.alpha * K.square(inputs) + self.beta * inputs\n",
    "        gamma = tf.convert_to_tensor(mean_landmarks)\n",
    "        # return K.sum(self.alpha * inputs**2 + self.beta * inputs, axis=1) + self.gamma\n",
    "\n",
    "    def get_config(self):\n",
    "        config = {\n",
    "            'alpha_initializer': initializers.serialize(self.alpha_initializer),\n",
    "            'alpha_regularizer': regularizers.serialize(self.alpha_regularizer),\n",
    "            'alpha_constraint': constraints.serialize(self.alpha_constraint),\n",
    "        }\n",
    "        base_config = super(Poly, self).get_config()\n",
    "        return dict(list(base_config.items()) + list(config.items()))\n",
    "\n",
    "    def compute_output_shape(self, input_shape):\n",
    "        return input_shape\n",
    "        # return (1,)"
   ]
  },
  {
   "cell_type": "code",
   "execution_count": null,
   "metadata": {},
   "outputs": [],
   "source": []
  },
  {
   "cell_type": "code",
   "execution_count": null,
   "metadata": {},
   "outputs": [],
   "source": [
    "def get_poly_model():\n",
    "    return Sequential([\n",
    "                    Input(shape=X_train.shape[1]),\n",
    "                    Poly(),\n",
    "#                    Dense(32),\n",
    "                    Dense(1, use_bias=True)\n",
    "])"
   ]
  },
  {
   "cell_type": "code",
   "execution_count": null,
   "metadata": {},
   "outputs": [],
   "source": []
  },
  {
   "cell_type": "code",
   "execution_count": null,
   "metadata": {},
   "outputs": [],
   "source": [
    "model = get_poly_model()\n",
    "#model = get_reg_model()\n",
    "loss = 'mse'\n",
    "LEARNING_RATE = 0.01\n",
    "\n",
    "model.compile(loss=loss, optimizer=SGD(lr=LEARNING_RATE))"
   ]
  },
  {
   "cell_type": "code",
   "execution_count": null,
   "metadata": {},
   "outputs": [],
   "source": [
    "BATCH_SIZE = X_train.shape[0] # computing the loss over the whole dataset\n",
    "EPOCHS = 2000 # how many iterations over the whole dataset\n",
    "t_0 = time()\n",
    "#with tf.device('/device:GPU:0'):\n",
    "history = model.fit(X_train, y_train,  validation_data=(X_val, y_val), epochs=EPOCHS, batch_size=BATCH_SIZE, verbose=0)\n",
    "\n",
    "print(time()-t_0, 's')"
   ]
  },
  {
   "cell_type": "code",
   "execution_count": null,
   "metadata": {},
   "outputs": [],
   "source": [
    "model.summary()"
   ]
  },
  {
   "cell_type": "code",
   "execution_count": null,
   "metadata": {},
   "outputs": [],
   "source": [
    "DataFrame(history.history).plot(figsize=(8, 5), logy=True)\n",
    "plt.grid(True)\n",
    "#plt.gca().set_ylim(0, 1)\n",
    "plt.title('Model performance throughout training')\n",
    "plt.ylabel('Loss')\n",
    "plt.xlabel('epoch')\n",
    "plt.show()"
   ]
  },
  {
   "cell_type": "code",
   "execution_count": null,
   "metadata": {},
   "outputs": [],
   "source": [
    "y_p_scaled = model.predict(X_val)\n",
    "y_p_scaled = y_p_scaled.reshape(y_p_scaled.shape[0])\n",
    "y_p_val = scaler_Y.inverse_transform(y_p_scaled)\n",
    "\n",
    "RMSLE = sqrt(mean_squared_error(y_val_df,y_p_val))\n",
    "print('Validation RMSLE:', RMSLE)\n",
    "y_p_scaled = model.predict(X_train)\n",
    "y_p_scaled = y_p_scaled.reshape(y_p_scaled.shape[0])\n",
    "\n",
    "y_p_train = scaler_Y.inverse_transform(y_p_scaled)\n",
    "\n",
    "RMSLE = sqrt(mean_squared_error(y_train_df.SalePrice, y_p_train))\n",
    "print('Train RMSLE:', RMSLE)"
   ]
  },
  {
   "cell_type": "code",
   "execution_count": null,
   "metadata": {},
   "outputs": [],
   "source": [
    "model.get_weights()"
   ]
  },
  {
   "cell_type": "code",
   "execution_count": null,
   "metadata": {},
   "outputs": [],
   "source": []
  }
 ],
 "metadata": {
  "kernelspec": {
   "display_name": "Python 3",
   "language": "python",
   "name": "python3"
  },
  "language_info": {
   "codemirror_mode": {
    "name": "ipython",
    "version": 3
   },
   "file_extension": ".py",
   "mimetype": "text/x-python",
   "name": "python",
   "nbconvert_exporter": "python",
   "pygments_lexer": "ipython3",
   "version": "3.7.4"
  }
 },
 "nbformat": 4,
 "nbformat_minor": 2
}
