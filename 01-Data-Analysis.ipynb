{
 "cells": [
  {
   "cell_type": "code",
   "execution_count": null,
   "metadata": {},
   "outputs": [],
   "source": [
    "setwd('.')\n",
    "house_prices <- read.csv(file = 'train.csv', row.names=1)"
   ]
  },
  {
   "cell_type": "code",
   "execution_count": null,
   "metadata": {},
   "outputs": [],
   "source": [
    "library(psych)\n",
    "library(corrplot)\n",
    "library(reshape2)\n",
    "library(ggplot2)\n",
    "library(tidyr)\n",
    "library(Hmisc)\n",
    "library(cluster)\n",
    "library(coefplot)\n",
    "library(car)\n",
    "library(caret)"
   ]
  },
  {
   "cell_type": "code",
   "execution_count": null,
   "metadata": {},
   "outputs": [],
   "source": [
    "colnames(house_prices)"
   ]
  },
  {
   "cell_type": "code",
   "execution_count": null,
   "metadata": {},
   "outputs": [],
   "source": [
    "nums <- unlist(lapply(house_prices, is.numeric))\n",
    "house_prices_nums = house_prices[,nums]"
   ]
  },
  {
   "cell_type": "code",
   "execution_count": null,
   "metadata": {},
   "outputs": [],
   "source": [
    "multi.hist(house_prices_nums)"
   ]
  },
  {
   "cell_type": "code",
   "execution_count": null,
   "metadata": {},
   "outputs": [],
   "source": [
    "summary(house_prices)"
   ]
  },
  {
   "cell_type": "code",
   "execution_count": null,
   "metadata": {},
   "outputs": [],
   "source": [
    "hist(house_prices[,'SalePrice'])"
   ]
  },
  {
   "cell_type": "code",
   "execution_count": null,
   "metadata": {},
   "outputs": [],
   "source": [
    "house_prices[,'SalePrice'] = log(house_prices[,'SalePrice'])\n",
    "hist(house_prices[,'SalePrice'])\n",
    "d <- density(house_prices$SalePrice)\n",
    "plot(d, main=\"Sale Price\")"
   ]
  },
  {
   "cell_type": "code",
   "execution_count": null,
   "metadata": {},
   "outputs": [],
   "source": [
    "d <- density(house_prices$LotArea)\n",
    "plot(d, main=\"Lot Area\")"
   ]
  },
  {
   "cell_type": "code",
   "execution_count": null,
   "metadata": {},
   "outputs": [],
   "source": [
    "d <- density(log(house_prices$LotArea))\n",
    "plot(d, main=\"Lot Area\")"
   ]
  },
  {
   "cell_type": "code",
   "execution_count": null,
   "metadata": {},
   "outputs": [],
   "source": [
    "par(mfrow=c(2,2))\n",
    "plot(density(log(house_prices$X2ndFlrSF)))\n",
    "plot(density(log(house_prices$X1stFlrSF)))\n",
    "plot(density(log(house_prices$TotalBsmtSF)))\n",
    "plot(density(log(house_prices$GrLivArea)))"
   ]
  },
  {
   "cell_type": "code",
   "execution_count": null,
   "metadata": {},
   "outputs": [],
   "source": [
    "house_prices$X2ndFlrSF <- log(house_prices$X2ndFlrSF)\n",
    "house_prices$X1stFlrSF <- log(house_prices$X1stFlrSF)\n",
    "house_prices$TotalBsmtSF <- log(house_prices$TotalBsmtSF)\n",
    "house_prices$GrLivArea <- log(house_prices$GrLivArea)"
   ]
  },
  {
   "cell_type": "code",
   "execution_count": null,
   "metadata": {},
   "outputs": [],
   "source": [
    "\n",
    "house_prices_nums_nona <- house_prices_nums %>% drop_na()\n",
    "# print(house_prices_nums_nona[,c(3,9)])\n",
    "corr= cor(house_prices_nums_nona)\n",
    "#corr= cor(house_prices_nums[,c(-3,-9,-26)])\n",
    "# corr= cor(house_prices_nums)\n",
    "corrplot(corr, method=\"color\", type='upper')"
   ]
  },
  {
   "cell_type": "code",
   "execution_count": null,
   "metadata": {},
   "outputs": [],
   "source": [
    "house_prices_ncol = ncol(house_prices_nums)\n",
    "obj_field = which(colnames(house_prices_nums)==\"SalePrice\")\n",
    "house_prices_ncol"
   ]
  },
  {
   "cell_type": "markdown",
   "metadata": {},
   "source": [
    "Scatter plot: SalePrice vs every other features"
   ]
  },
  {
   "cell_type": "code",
   "execution_count": null,
   "metadata": {},
   "outputs": [],
   "source": [
    "max <- ceiling((house_prices_ncol-1)/9)-1\n",
    "for(i in 0:max) {\n",
    "    first = i*9+1\n",
    "    last = min(house_prices_ncol-1,first+8)\n",
    "    house_prices_nums2 <- melt(house_prices_nums_nona[,c(first:last,obj_field)], id.vars = \"SalePrice\")\n",
    "    print(ggplot(house_prices_nums2, aes(x=SalePrice, y=value)) + geom_point() + facet_wrap(\"variable\", scales=\"free\"))\n",
    "}"
   ]
  },
  {
   "cell_type": "code",
   "execution_count": null,
   "metadata": {},
   "outputs": [],
   "source": [
    "indices <- which(house_prices_nums_nona$LotArea>200000)\n",
    "house_prices_nums_nona=house_prices_nums_nona[-indices,]\n",
    "\n",
    "indices <- which(house_prices_nums_nona$LotFrontage>250)\n",
    "house_prices_nums_nona=house_prices_nums_nona[-indices,]"
   ]
  },
  {
   "cell_type": "markdown",
   "metadata": {},
   "source": [
    "Correlation with sale price"
   ]
  },
  {
   "cell_type": "code",
   "execution_count": null,
   "metadata": {},
   "outputs": [],
   "source": [
    "sale_corr <- abs(corr[,'SalePrice'])\n",
    "sort(sale_corr, decreasing = TRUE)"
   ]
  },
  {
   "cell_type": "markdown",
   "metadata": {},
   "source": [
    "P values of the correlations"
   ]
  },
  {
   "cell_type": "code",
   "execution_count": null,
   "metadata": {},
   "outputs": [],
   "source": [
    "pvalues = rcorr(as.matrix(house_prices_nums_nona), type = \"pearson\")$P\n",
    "pvalues_price <- pvalues[,'SalePrice']\n",
    "sort(pvalues_price)"
   ]
  },
  {
   "cell_type": "code",
   "execution_count": null,
   "metadata": {},
   "outputs": [],
   "source": [
    "library(FactoMineR)\n",
    "library(factoextra)"
   ]
  },
  {
   "cell_type": "code",
   "execution_count": null,
   "metadata": {},
   "outputs": [],
   "source": [
    "prices_pca <- PCA(house_prices_nums)"
   ]
  },
  {
   "cell_type": "code",
   "execution_count": null,
   "metadata": {},
   "outputs": [],
   "source": [
    "fviz_pca_var(prices_pca, col.var=\"contrib\",\n",
    "             gradient.cols = c(\"#00AFBB\", \"#E7B800\", \"#FC4E07\"),\n",
    "             select.var = list(contrib = 10),\n",
    "             repel = TRUE # Avoid text overlapping\n",
    "             )"
   ]
  },
  {
   "cell_type": "code",
   "execution_count": null,
   "metadata": {},
   "outputs": [],
   "source": [
    "fviz_pca_biplot(prices_pca,select.var=list(contrib=10),\n",
    "                select.ind=list(contrib=200),\n",
    "                label=\"var\",\n",
    "                col.ind=house_prices$Neighborhood)"
   ]
  },
  {
   "cell_type": "code",
   "execution_count": null,
   "metadata": {},
   "outputs": [],
   "source": [
    "set.seed(31)\n",
    "fviz_nbclust(house_prices_nums_nona, kmeans, method = \"wss\", k.max = 24) + theme_minimal() + ggtitle(\"the Elbow Method\")"
   ]
  },
  {
   "cell_type": "code",
   "execution_count": null,
   "metadata": {},
   "outputs": [],
   "source": [
    "cah.res <- agnes(house_prices_nums_nona, method = \"ward\")\n",
    "plot(cah.res, which.plot=2, cex=0.6, main =\"Dendrogramme\")\n",
    "rect.hclust(cah.res, k=7)\n",
    "grp <- cutree(cah.res, k = 7)"
   ]
  },
  {
   "cell_type": "code",
   "execution_count": null,
   "metadata": {},
   "outputs": [],
   "source": [
    "clusplot(house_prices_nums_nona, grp, color=TRUE, shade=TRUE,\n",
    "         labels=2, lines=0, main= '')"
   ]
  },
  {
   "cell_type": "code",
   "execution_count": null,
   "metadata": {},
   "outputs": [],
   "source": [
    "house.scaled = as.data.frame(scale(house_prices_nums_nona))\n",
    "kmeans.res = kmeans(house.scaled, centers=7, nstart=10)\n",
    "fviz_cluster(kmeans.res, data=house_prices_nums_nona)"
   ]
  },
  {
   "cell_type": "code",
   "execution_count": null,
   "metadata": {},
   "outputs": [],
   "source": [
    "houses.pca <- PCA(house_prices_nums_nona)"
   ]
  },
  {
   "cell_type": "code",
   "execution_count": null,
   "metadata": {},
   "outputs": [],
   "source": [
    "fviz_pca_biplot(houses.pca,\n",
    "                label=\"var\",\n",
    "                col.ind=factor(kmeans.res$cluster),\n",
    "                gradient.cols = c(\"darkblue\", \"red\", \"purple\" ),\n",
    "                repel=TRUE)"
   ]
  },
  {
   "cell_type": "code",
   "execution_count": null,
   "metadata": {},
   "outputs": [],
   "source": [
    "#boxplot(house_prices~)"
   ]
  },
  {
   "cell_type": "code",
   "execution_count": null,
   "metadata": {},
   "outputs": [],
   "source": [
    "house.scaled = subset(house.scaled, select = -c(MSSubClass) )"
   ]
  },
  {
   "cell_type": "code",
   "execution_count": null,
   "metadata": {},
   "outputs": [],
   "source": [
    "house.lm = lm(SalePrice~. , data=house.scaled)\n",
    "summary(house.lm)\n",
    "coefplot(house.lm)"
   ]
  },
  {
   "cell_type": "code",
   "execution_count": null,
   "metadata": {},
   "outputs": [],
   "source": [
    "#vif(house.lm)\n",
    "Anova(house.lm)\n",
    "plot(house.lm,1)"
   ]
  },
  {
   "cell_type": "markdown",
   "metadata": {},
   "source": [
    "# Surface features"
   ]
  },
  {
   "cell_type": "markdown",
   "metadata": {},
   "source": [
    "Separate houses with and without 2nd floor"
   ]
  },
  {
   "cell_type": "code",
   "execution_count": null,
   "metadata": {},
   "outputs": [],
   "source": [
    "indices = which(house_prices_nums_nona$X2ndFlrSF == 0)\n",
    "house.scaled.2ndFlr = house.scaled[-indices,]\n",
    "house.scaled.no2ndFlr = house.scaled[indices,]"
   ]
  },
  {
   "cell_type": "markdown",
   "metadata": {},
   "source": [
    "Second floor"
   ]
  },
  {
   "cell_type": "code",
   "execution_count": null,
   "metadata": {},
   "outputs": [],
   "source": [
    "coefplot(lm(SalePrice~X2ndFlrSF+X1stFlrSF+TotalBsmtSF+GrLivArea , data=house.scaled.2ndFlr))\n",
    "summary(lm(SalePrice~X2ndFlrSF+X1stFlrSF+TotalBsmtSF+GrLivArea , data=house.scaled.2ndFlr))"
   ]
  },
  {
   "cell_type": "code",
   "execution_count": null,
   "metadata": {},
   "outputs": [],
   "source": [
    "pairs.panels(house.scaled.2ndFlr[ ,c('SalePrice', 'X2ndFlrSF','X1stFlrSF','TotalBsmtSF','GrLivArea')])"
   ]
  },
  {
   "cell_type": "markdown",
   "metadata": {},
   "source": [
    "No second floot"
   ]
  },
  {
   "cell_type": "code",
   "execution_count": null,
   "metadata": {},
   "outputs": [],
   "source": [
    "coefplot(lm(SalePrice~X1stFlrSF+TotalBsmtSF+GrLivArea , data=house.scaled.no2ndFlr))\n",
    "summary(lm(SalePrice~X1stFlrSF+TotalBsmtSF+GrLivArea , data=house.scaled.no2ndFlr))\n",
    "pairs.panels(house.scaled.no2ndFlr[ ,c('SalePrice', 'X1stFlrSF','TotalBsmtSF','GrLivArea')])"
   ]
  },
  {
   "cell_type": "code",
   "execution_count": null,
   "metadata": {},
   "outputs": [],
   "source": [
    "plot(lm(SalePrice~X1stFlrSF+TotalBsmtSF+GrLivArea , data=house.scaled.no2ndFlr),1)"
   ]
  },
  {
   "cell_type": "code",
   "execution_count": null,
   "metadata": {},
   "outputs": [],
   "source": []
  }
 ],
 "metadata": {
  "kernelspec": {
   "display_name": "R",
   "language": "R",
   "name": "ir"
  },
  "language_info": {
   "codemirror_mode": "r",
   "file_extension": ".r",
   "mimetype": "text/x-r-source",
   "name": "R",
   "pygments_lexer": "r",
   "version": "3.6.1"
  }
 },
 "nbformat": 4,
 "nbformat_minor": 2
}
