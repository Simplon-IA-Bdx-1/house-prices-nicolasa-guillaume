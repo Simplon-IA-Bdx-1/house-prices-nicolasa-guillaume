{
 "cells": [
  {
   "cell_type": "code",
   "execution_count": null,
   "metadata": {},
   "outputs": [],
   "source": [
    "%autosave 0\n",
    "import numpy as np \n",
    "import pandas as pd \n",
    "from pandas import read_csv, DataFrame\n",
    "from math import sqrt\n",
    "\n",
    "from sklearn.preprocessing import StandardScaler\n",
    "from sklearn.model_selection import train_test_split\n",
    "from sklearn.model_selection import GridSearchCV\n",
    "from sklearn.metrics import mean_squared_error as MSE\n",
    "from sklearn.model_selection import StratifiedKFold\n",
    "from sklearn.metrics.scorer import make_scorer\n",
    "\n",
    "from sklearn.preprocessing import PolynomialFeatures \n",
    "from sklearn.pipeline import Pipeline\n",
    "\n",
    "import tensorflow.keras\n",
    "from tensorflow.keras.models import Sequential\n",
    "from tensorflow.keras import Sequential\n",
    "from tensorflow.keras.layers import Dense, Dropout, Input, Activation\n",
    "from tensorflow.keras import metrics\n",
    "from tensorflow.keras import optimizers\n",
    "from tensorflow.keras import regularizers\n",
    "\n",
    "from tensorflow.keras.wrappers.scikit_learn import KerasRegressor\n",
    "\n",
    "import seaborn as sns\n",
    "import matplotlib.pyplot as plt\n",
    "\n",
    "# ignore Warning\n",
    "import warnings\n",
    "warnings.filterwarnings(\"ignore\") \n",
    "\n"
   ]
  },
  {
   "cell_type": "code",
   "execution_count": null,
   "metadata": {},
   "outputs": [],
   "source": [
    "#### Mettre la variable sur True si recherche des paramétres opti, mais l'opération dure environ 45 minutes\n",
    "lookForOptimiz = True"
   ]
  },
  {
   "cell_type": "code",
   "execution_count": null,
   "metadata": {},
   "outputs": [],
   "source": [
    "X_train = read_csv('X_train.csv', index_col=0)\n",
    "X_val = read_csv('X_val.csv', index_col=0)\n",
    "test_df = read_csv('X_test.csv', index_col=0)\n",
    "y_train_log = read_csv('y_train.csv', index_col=0)\n",
    "y_val_log = read_csv('y_val.csv', index_col=0)"
   ]
  },
  {
   "cell_type": "markdown",
   "metadata": {},
   "source": [
    "# Output Scaler"
   ]
  },
  {
   "cell_type": "code",
   "execution_count": null,
   "metadata": {},
   "outputs": [],
   "source": [
    "scaler_Y = StandardScaler()\n",
    "scaler_Y.fit(y_train_log)\n",
    "\n",
    "y_train_log_scaled = scaler_Y.transform(y_train_log)\n",
    "y_val_log_scaled = scaler_Y.transform(y_val_log)"
   ]
  },
  {
   "cell_type": "code",
   "execution_count": null,
   "metadata": {},
   "outputs": [],
   "source": [
    "X_train = X_train.values.astype(float)\n",
    "X_val = X_val.values.astype(float)\n",
    "test = test_df.values.astype(float)"
   ]
  },
  {
   "cell_type": "code",
   "execution_count": null,
   "metadata": {},
   "outputs": [],
   "source": [
    "nb_features = 75 # 24\n",
    "X_train = X_train[:,:nb_features]\n",
    "X_val = X_val[:,:nb_features]\n",
    "test = test[:,:nb_features]"
   ]
  },
  {
   "cell_type": "code",
   "execution_count": null,
   "metadata": {},
   "outputs": [],
   "source": [
    "seed = 42\n",
    "np.random.seed(seed)"
   ]
  },
  {
   "cell_type": "markdown",
   "metadata": {},
   "source": [
    "# Recherche des paramétres opti du réseau"
   ]
  },
  {
   "cell_type": "code",
   "execution_count": null,
   "metadata": {},
   "outputs": [],
   "source": [
    "sgd = optimizers.SGD(lr=0.01, clipvalue=0.5)"
   ]
  },
  {
   "cell_type": "code",
   "execution_count": null,
   "metadata": {},
   "outputs": [],
   "source": [
    "def create_model(neurons=100, l1=0.01):\n",
    "    model = Sequential()\n",
    "    model.add(Dense(neurons, input_dim=X_train.shape[1], kernel_regularizer=regularizers.l1(l1)))\n",
    "    model.add(Activation('relu')) # activity_regularizers = regularizers.l2(0.01)\n",
    "    model.add(Dense(1, kernel_initializer='normal',kernel_regularizer=regularizers.l1(l1)))\n",
    "    model.compile(loss='mean_squared_error', optimizer=sgd)\n",
    "    return model"
   ]
  },
  {
   "cell_type": "markdown",
   "metadata": {},
   "source": [
    "Creation of a custom scoring method"
   ]
  },
  {
   "cell_type": "code",
   "execution_count": null,
   "metadata": {},
   "outputs": [],
   "source": [
    "def RMSLE(y_true_log_scaled, y_pred_log_scaled):\n",
    "    y_pred_log = scaler_Y.inverse_transform(y_pred_log_scaled)\n",
    "    y_true_log = scaler_Y.inverse_transform(y_true_log_scaled)\n",
    "    return np.sqrt(MSE(y_pred_log, y_true_log))    \n",
    "score = make_scorer(RMSLE, greater_is_better=False)"
   ]
  },
  {
   "cell_type": "code",
   "execution_count": null,
   "metadata": {},
   "outputs": [],
   "source": [
    "def BestParams():\n",
    "    estimators = []\n",
    "    #estimators.append(('pf', PolynomialFeatures(interaction_only=True,include_bias=False)))\n",
    "    #estimators.append(('ss', StandardScaler()))\n",
    "    estimators.append(('nn', KerasRegressor(build_fn=create_model, epochs=10, batch_size=5, neurons=200, verbose=0)))\n",
    "    \n",
    "    nn_pipe = Pipeline(estimators)\n",
    "    print(nn_pipe.get_params().keys())\n",
    "    \n",
    "    nn_param_grid = {'nn__epochs':[1000],'nn__batch_size':[100],\n",
    "                     'nn__neurons':[60,70],'nn__l1':[0.005,0.001,0.002]}\n",
    "    \n",
    "    gs_nn = GridSearchCV(nn_pipe, nn_param_grid,verbose=0, cv=3, scoring=score)\n",
    "    print('Ok')\n",
    "    gs_nn.fit(X_train, y_train_log_scaled)\n",
    "    \n",
    "    return gs_nn.best_params_"
   ]
  },
  {
   "cell_type": "code",
   "execution_count": null,
   "metadata": {},
   "outputs": [],
   "source": [
    "X_train.shape, y_train.shape"
   ]
  },
  {
   "cell_type": "code",
   "execution_count": null,
   "metadata": {},
   "outputs": [],
   "source": [
    "if lookForOptimiz : \n",
    "    best = BestParams()\n",
    "    print(best)"
   ]
  },
  {
   "cell_type": "markdown",
   "metadata": {},
   "source": [
    "# Creation du modèle"
   ]
  },
  {
   "cell_type": "code",
   "execution_count": null,
   "metadata": {},
   "outputs": [],
   "source": [
    "model = create_model(neurons=60, l1=0.005)"
   ]
  },
  {
   "cell_type": "code",
   "execution_count": null,
   "metadata": {},
   "outputs": [],
   "source": [
    "m_fti = model.fit(X_train, y_train_log_scaled, epochs=1000, batch_size=100)"
   ]
  },
  {
   "cell_type": "code",
   "execution_count": null,
   "metadata": {},
   "outputs": [],
   "source": [
    "DataFrame(m_fti.history).plot()\n",
    "plt.grid = True\n",
    "plt.show()"
   ]
  },
  {
   "cell_type": "code",
   "execution_count": null,
   "metadata": {},
   "outputs": [],
   "source": [
    "X_val.shape"
   ]
  },
  {
   "cell_type": "markdown",
   "metadata": {},
   "source": [
    "# Validation score"
   ]
  },
  {
   "cell_type": "code",
   "execution_count": null,
   "metadata": {},
   "outputs": [],
   "source": [
    "pred_log_scaled = model.predict(X_val)\n",
    "pred_log = scaler_Y.inverse_transform(pred_log_scaled)"
   ]
  },
  {
   "cell_type": "code",
   "execution_count": null,
   "metadata": {},
   "outputs": [],
   "source": [
    "RMSE = np.sqrt(MSE(pred_log,y_val_log))\n",
    "print(RMSE.round(4))"
   ]
  },
  {
   "cell_type": "markdown",
   "metadata": {},
   "source": [
    "# Train score"
   ]
  },
  {
   "cell_type": "code",
   "execution_count": null,
   "metadata": {},
   "outputs": [],
   "source": [
    "pred_log_scaled = model.predict(X_train)\n",
    "pred_log = scaler_Y.inverse_transform(pred_log_scaled)"
   ]
  },
  {
   "cell_type": "code",
   "execution_count": null,
   "metadata": {},
   "outputs": [],
   "source": [
    "RMSE = np.sqrt(MSE(pred_log,y_train_log))\n",
    "print(RMSE.round(4))"
   ]
  },
  {
   "cell_type": "markdown",
   "metadata": {},
   "source": [
    "# Kaggle prediction"
   ]
  },
  {
   "cell_type": "code",
   "execution_count": null,
   "metadata": {},
   "outputs": [],
   "source": [
    "pred_kagg_log_scaled = model.predict(test)"
   ]
  },
  {
   "cell_type": "code",
   "execution_count": null,
   "metadata": {},
   "outputs": [],
   "source": [
    "pred_kagg_log_scaled.shape"
   ]
  },
  {
   "cell_type": "code",
   "execution_count": null,
   "metadata": {},
   "outputs": [],
   "source": [
    "pred_kagg_log = scaler_Y.inverse_transform(pred_kagg_log_scaled)\n",
    "pred_kagg = np.exp(pred_kagg_log).reshape(-1)"
   ]
  },
  {
   "cell_type": "code",
   "execution_count": null,
   "metadata": {},
   "outputs": [],
   "source": [
    "pred_kagg\n"
   ]
  },
  {
   "cell_type": "code",
   "execution_count": null,
   "metadata": {},
   "outputs": [],
   "source": [
    "submission = DataFrame({\"SalePrice\": pred_kagg}, index=test_df.index)\n",
    "submission.to_csv('new_kagg10.csv')"
   ]
  }
 ],
 "metadata": {
  "kernelspec": {
   "display_name": "Python 3",
   "language": "python",
   "name": "python3"
  },
  "language_info": {
   "codemirror_mode": {
    "name": "ipython",
    "version": 3
   },
   "file_extension": ".py",
   "mimetype": "text/x-python",
   "name": "python",
   "nbconvert_exporter": "python",
   "pygments_lexer": "ipython3",
   "version": "3.7.5"
  }
 },
 "nbformat": 4,
 "nbformat_minor": 2
}
