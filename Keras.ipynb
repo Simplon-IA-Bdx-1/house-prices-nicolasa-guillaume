{
 "cells": [
  {
   "cell_type": "code",
   "execution_count": 946,
   "metadata": {},
   "outputs": [
    {
     "name": "stdout",
     "output_type": "stream",
     "text": [
      "2.0.0\n"
     ]
    }
   ],
   "source": [
    "from pandas import DataFrame, read_csv\n",
    "from matplotlib import pyplot as plt\n",
    "from sklearn.metrics import mean_squared_error, accuracy_score\n",
    "from numpy import transpose\n",
    "import numpy as np\n",
    "from math import sqrt\n",
    "import tensorflow as tf\n",
    "from tensorflow.keras.layers import Dense, Activation, Input\n",
    "from tensorflow.keras.models import Sequential\n",
    "from tensorflow.keras import regularizers\n",
    "from time import time\n",
    "import seaborn as sns\n",
    "#tf.debugging.set_log_device_placement(True)\n",
    "print(tf.__version__)"
   ]
  },
  {
   "cell_type": "code",
   "execution_count": 947,
   "metadata": {},
   "outputs": [
    {
     "name": "stdout",
     "output_type": "stream",
     "text": [
      "[name: \"/device:CPU:0\"\n",
      "device_type: \"CPU\"\n",
      "memory_limit: 268435456\n",
      "locality {\n",
      "}\n",
      "incarnation: 14460255534651807657\n",
      ", name: \"/device:GPU:0\"\n",
      "device_type: \"GPU\"\n",
      "memory_limit: 1772421120\n",
      "locality {\n",
      "  bus_id: 1\n",
      "  links {\n",
      "  }\n",
      "}\n",
      "incarnation: 10814299230734849316\n",
      "physical_device_desc: \"device: 0, name: Quadro K2100M, pci bus id: 0000:01:00.0, compute capability: 3.0\"\n",
      "]\n"
     ]
    }
   ],
   "source": [
    "from tensorflow.python.client import device_lib\n",
    "print(device_lib.list_local_devices())\n",
    "\n",
    "#a = tf.constant([[1.0, 2.0, 3.0], [4.0, 5.0, 6.0]])\n",
    "#b = tf.constant([[1.0, 2.0], [3.0, 4.0], [5.0, 6.0]])\n",
    "#c = tf.matmul(a, b)\n",
    "\n",
    "#print(c)"
   ]
  },
  {
   "cell_type": "code",
   "execution_count": 948,
   "metadata": {},
   "outputs": [],
   "source": [
    "X_train_df = read_csv('X_train.csv', index_col=0)\n",
    "X_val_df = read_csv('X_val.csv', index_col=0)\n",
    "test_df = read_csv('X_test.csv', index_col=0)\n",
    "y_train_df = read_csv('y_train.csv', index_col=0)\n",
    "y_val_df = read_csv('y_val.csv', index_col=0)"
   ]
  },
  {
   "cell_type": "code",
   "execution_count": 18,
   "metadata": {
    "deletable": false,
    "editable": false,
    "run_control": {
     "frozen": true
    }
   },
   "outputs": [],
   "source": [
    "y_train = y_train.SalePrice.values.astype(float)\n",
    "y_val = y_val.SalePrice.values.astype(float)"
   ]
  },
  {
   "cell_type": "code",
   "execution_count": 134,
   "metadata": {
    "deletable": false,
    "editable": false,
    "run_control": {
     "frozen": true
    }
   },
   "outputs": [],
   "source": [
    "X_train = transpose([X_train.Surface.values.astype(float)])\n",
    "X_val = transpose([X_val.Surface.values.astype(float)])"
   ]
  },
  {
   "cell_type": "code",
   "execution_count": 949,
   "metadata": {},
   "outputs": [
    {
     "data": {
      "text/plain": [
       "(1166, 287)"
      ]
     },
     "execution_count": 949,
     "metadata": {},
     "output_type": "execute_result"
    }
   ],
   "source": [
    "X_train.shape"
   ]
  },
  {
   "cell_type": "code",
   "execution_count": 950,
   "metadata": {},
   "outputs": [],
   "source": [
    "y_train = y_train_df.values.astype(float)\n",
    "y_val = y_val_df.values.astype(float)"
   ]
  },
  {
   "cell_type": "code",
   "execution_count": 951,
   "metadata": {},
   "outputs": [],
   "source": [
    "#X_train = X_train[['Surface','OverallQual']].values.astype(float)\n",
    "#X_val = X_val[['Surface','OverallQual']].values.astype(float)\n",
    "X_train = X_train_df.values.astype(float)\n",
    "X_val = X_val_df.values.astype(float)"
   ]
  },
  {
   "cell_type": "code",
   "execution_count": 952,
   "metadata": {},
   "outputs": [
    {
     "data": {
      "text/plain": [
       "(1166, 287)"
      ]
     },
     "execution_count": 952,
     "metadata": {},
     "output_type": "execute_result"
    }
   ],
   "source": [
    "X_train.shape"
   ]
  },
  {
   "cell_type": "code",
   "execution_count": 953,
   "metadata": {},
   "outputs": [],
   "source": [
    "from tensorflow.keras.backend import sigmoid, tanh, maximum\n",
    "def custom(x):\n",
    "    return maximum(x-2,tanh(x-2)+2)"
   ]
  },
  {
   "cell_type": "code",
   "execution_count": 954,
   "metadata": {},
   "outputs": [],
   "source": [
    "model = Sequential()\n",
    "model.add(Input(shape=X_train.shape[1:]))\n",
    "model.add(Dense(32,\n",
    "                kernel_initializer='normal',\n",
    "                kernel_regularizer=regularizers.l2(0.1),\n",
    "                activity_regularizer=regularizers.l2(0.1),\n",
    "                activation='relu'\n",
    "                ))\n",
    "#model.add(Activation('relu'))\n",
    "#model.add(Dense(32))\n",
    "#model.add(tf.keras.layers.PReLU())\n",
    "model.add(Dense(1))\n",
    "#model.add(Activation('elu'))"
   ]
  },
  {
   "cell_type": "code",
   "execution_count": 908,
   "metadata": {
    "deletable": false,
    "editable": false,
    "run_control": {
     "frozen": true
    }
   },
   "outputs": [],
   "source": [
    "model = Sequential([\n",
    "    Input(shape=X_train.shape[1]),\n",
    "    Dense(1)\n",
    "])"
   ]
  },
  {
   "cell_type": "code",
   "execution_count": 955,
   "metadata": {},
   "outputs": [],
   "source": [
    "loss = 'mse'"
   ]
  },
  {
   "cell_type": "code",
   "execution_count": 956,
   "metadata": {},
   "outputs": [],
   "source": [
    "from tensorflow.keras.optimizers import SGD,RMSprop,Adam\n",
    "LEARNING_RATE = 0.001\n",
    "model.compile(loss=loss, optimizer=SGD(lr=LEARNING_RATE))\n",
    "#model.compile(loss=loss, optimizer=RMSprop(lr=LEARNING_RATE))\n",
    "#model.compile(loss=loss, optimizer=Adam(lr=LEARNING_RATE))"
   ]
  },
  {
   "cell_type": "code",
   "execution_count": 957,
   "metadata": {},
   "outputs": [
    {
     "name": "stdout",
     "output_type": "stream",
     "text": [
      "158.37205386161804\n"
     ]
    }
   ],
   "source": [
    "BATCH_SIZE = X_train.shape[0] # computing the loss over the whole dataset\n",
    "EPOCHS = 50000 # how many iterations over the whole dataset\n",
    "t_0 = time()\n",
    "#with tf.device('/device:GPU:0'):\n",
    "history = model.fit(X_train, y_train, epochs=EPOCHS, batch_size=BATCH_SIZE, verbose=0)\n",
    "print(time()-t_0)"
   ]
  },
  {
   "cell_type": "code",
   "execution_count": 958,
   "metadata": {},
   "outputs": [
    {
     "data": {
      "image/png": "[encoded data removed]",
      "text/plain": [
       "<Figure size 576x360 with 1 Axes>"
      ]
     },
     "metadata": {
      "needs_background": "light"
     },
     "output_type": "display_data"
    }
   ],
   "source": [
    "DataFrame(history.history).plot(figsize=(8, 5), logy=True)\n",
    "plt.grid(True)\n",
    "#plt.gca().set_ylim(0, 1)\n",
    "plt.title('Model performance throughout training')\n",
    "plt.ylabel('Loss')\n",
    "plt.xlabel('epoch')\n",
    "plt.show()"
   ]
  },
  {
   "cell_type": "code",
   "execution_count": 959,
   "metadata": {},
   "outputs": [],
   "source": [
    "y_pred = model.predict(X_val)"
   ]
  },
  {
   "cell_type": "code",
   "execution_count": 960,
   "metadata": {},
   "outputs": [],
   "source": [
    "y_pred = y_pred.reshape(y_pred.shape[0])\n",
    "y_val = y_val.reshape(y_val.shape[0])"
   ]
  },
  {
   "cell_type": "code",
   "execution_count": 961,
   "metadata": {},
   "outputs": [
    {
     "data": {
      "text/plain": [
       "0.3631897140351239"
      ]
     },
     "execution_count": 961,
     "metadata": {},
     "output_type": "execute_result"
    }
   ],
   "source": [
    "RMSLE = sqrt(mean_squared_error(y_val,y_pred))\n",
    "RMSLE"
   ]
  },
  {
   "cell_type": "code",
   "execution_count": 962,
   "metadata": {},
   "outputs": [
    {
     "data": {
      "text/plain": [
       "<matplotlib.axes._subplots.AxesSubplot at 0x7f100039dd50>"
      ]
     },
     "execution_count": 962,
     "metadata": {},
     "output_type": "execute_result"
    },
    {
     "data": {
      "image/png": "[encoded data removed]",
      "text/plain": [
       "<Figure size 432x288 with 1 Axes>"
      ]
     },
     "metadata": {
      "needs_background": "light"
     },
     "output_type": "display_data"
    }
   ],
   "source": [
    "sns.distplot(y_pred-y_val)"
   ]
  },
  {
   "cell_type": "code",
   "execution_count": 963,
   "metadata": {},
   "outputs": [
    {
     "data": {
      "image/png": "[encoded data removed]",
      "text/plain": [
       "<Figure size 1080x720 with 1 Axes>"
      ]
     },
     "metadata": {
      "needs_background": "light"
     },
     "output_type": "display_data"
    }
   ],
   "source": [
    "df = DataFrame(data={'value':np.exp(y_val), 'predicted':np.exp(y_pred)})\n",
    "plt.figure(figsize=(15,10))\n",
    "sns.scatterplot(x='value',y='predicted', data=df )\n",
    "plt.show()"
   ]
  },
  {
   "cell_type": "code",
   "execution_count": 964,
   "metadata": {},
   "outputs": [
    {
     "name": "stdout",
     "output_type": "stream",
     "text": [
      "142\n"
     ]
    }
   ],
   "source": [
    "anomaly_idx = df['predicted'].idxmax()\n",
    "print(anomaly_idx)"
   ]
  },
  {
   "cell_type": "code",
   "execution_count": 965,
   "metadata": {},
   "outputs": [],
   "source": [
    "anomaly = X_val_df.iloc[anomaly_idx]"
   ]
  },
  {
   "cell_type": "code",
   "execution_count": 966,
   "metadata": {},
   "outputs": [
    {
     "data": {
      "text/plain": [
       "LotFrontage               2.192625\n",
       "LotArea                   3.283105\n",
       "MasVnrArea                3.721816\n",
       "BsmtFinSF1                4.210999\n",
       "TotalBsmtSF               4.881511\n",
       "1stFlrSF                  5.232092\n",
       "2ndFlrSF                  2.740429\n",
       "FullBath                  2.614849\n",
       "TotRmsAbvGrd              2.800135\n",
       "GarageCars                1.634322\n",
       "GarageArea                1.948454\n",
       "OpenPorchSF               5.380255\n",
       "MSSubClass_60             1.959126\n",
       "LandContour_Lvl          -2.980160\n",
       "LandContour_Bnk           4.582576\n",
       "Neighborhood_Edwards      3.734798\n",
       "Condition1_Norm          -2.498447\n",
       "Condition1_PosN           9.417659\n",
       "Condition2_Norm          -9.417659\n",
       "Condition2_PosN          34.132096\n",
       "HouseStyle_2Story         1.517602\n",
       "OverallQual_10            9.417659\n",
       "RoofStyle_Gable          -1.862104\n",
       "RoofStyle_Hip             2.001073\n",
       "Exterior1st_CemntBd       4.879397\n",
       "MasVnrType_Stone          3.338538\n",
       "ExterQual_Ex              5.110409\n",
       "BsmtQual_Ex               3.338538\n",
       "BsmtExposure_Gd           3.178799\n",
       "BsmtFinType1_GLQ          1.618987\n",
       "KitchenQual_Ex            3.787097\n",
       "FireplaceQu_Gd            1.680164\n",
       "GarageType_BuiltIn        3.987299\n",
       "GarageFinish_Fin          1.718296\n",
       "SaleType_WD              -2.592654\n",
       "SaleType_New              3.301206\n",
       "SaleCondition_Normal     -2.133631\n",
       "SaleCondition_Partial     3.264966\n",
       "Surface                   6.628896\n",
       "Name: 524, dtype: float64"
      ]
     },
     "execution_count": 966,
     "metadata": {},
     "output_type": "execute_result"
    }
   ],
   "source": [
    "anomaly.loc[np.abs(anomaly)>1.5]"
   ]
  },
  {
   "cell_type": "code",
   "execution_count": null,
   "metadata": {},
   "outputs": [],
   "source": []
  }
 ],
 "metadata": {
  "kernelspec": {
   "display_name": "Python 3",
   "language": "python",
   "name": "python3"
  },
  "language_info": {
   "codemirror_mode": {
    "name": "ipython",
    "version": 3
   },
   "file_extension": ".py",
   "mimetype": "text/x-python",
   "name": "python",
   "nbconvert_exporter": "python",
   "pygments_lexer": "ipython3",
   "version": "3.7.4"
  }
 },
 "nbformat": 4,
 "nbformat_minor": 2
}
