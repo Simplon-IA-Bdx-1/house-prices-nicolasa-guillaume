{
 "cells": [
  {
   "cell_type": "code",
   "execution_count": 19,
   "metadata": {},
   "outputs": [
    {
     "name": "stdout",
     "output_type": "stream",
     "text": [
      "2.0.0\n"
     ]
    }
   ],
   "source": [
    "from pandas import DataFrame, read_csv\n",
    "from matplotlib import pyplot as plt\n",
    "from sklearn.metrics import mean_squared_error, accuracy_score\n",
    "from sklearn.preprocessing import StandardScaler\n",
    "from sklearn.decomposition import PCA\n",
    "from numpy import transpose\n",
    "import numpy as np\n",
    "from math import sqrt\n",
    "import tensorflow as tf\n",
    "from tensorflow.keras.layers import Dense, Activation, Input\n",
    "from tensorflow.keras.models import Sequential\n",
    "from tensorflow.keras import regularizers\n",
    "from tensorflow.keras.optimizers import SGD,RMSprop,Adam\n",
    "from time import time\n",
    "import seaborn as sns\n",
    "#tf.debugging.set_log_device_placement(True)\n",
    "print(tf.__version__)"
   ]
  },
  {
   "cell_type": "code",
   "execution_count": 20,
   "metadata": {},
   "outputs": [
    {
     "name": "stdout",
     "output_type": "stream",
     "text": [
      "[name: \"/device:CPU:0\"\n",
      "device_type: \"CPU\"\n",
      "memory_limit: 268435456\n",
      "locality {\n",
      "}\n",
      "incarnation: 15788605075636717930\n",
      "]\n"
     ]
    }
   ],
   "source": [
    "from tensorflow.python.client import device_lib\n",
    "print(device_lib.list_local_devices())\n",
    "\n",
    "#a = tf.constant([[1.0, 2.0, 3.0], [4.0, 5.0, 6.0]])\n",
    "#b = tf.constant([[1.0, 2.0], [3.0, 4.0], [5.0, 6.0]])\n",
    "#c = tf.matmul(a, b)\n",
    "\n",
    "#print(c)"
   ]
  },
  {
   "cell_type": "code",
   "execution_count": 21,
   "metadata": {},
   "outputs": [],
   "source": [
    "X_train_df = read_csv('X_train.csv', index_col=0)\n",
    "X_val_df = read_csv('X_val.csv', index_col=0)\n",
    "test_df = read_csv('X_test.csv', index_col=0)\n",
    "y_train_df = read_csv('y_train.csv', index_col=0)\n",
    "y_val_df = read_csv('y_val.csv', index_col=0)"
   ]
  },
  {
   "cell_type": "code",
   "execution_count": 22,
   "metadata": {},
   "outputs": [
    {
     "data": {
      "text/plain": [
       "(1049, 1)"
      ]
     },
     "execution_count": 22,
     "metadata": {},
     "output_type": "execute_result"
    }
   ],
   "source": [
    "y_train_df.shape"
   ]
  },
  {
   "cell_type": "markdown",
   "metadata": {},
   "source": [
    "### Output scaling"
   ]
  },
  {
   "cell_type": "code",
   "execution_count": 23,
   "metadata": {},
   "outputs": [],
   "source": [
    "scaler_Y = StandardScaler()\n",
    "scaler_Y.fit(y_train_df)\n",
    "\n",
    "y_train = scaler_Y.transform(y_train_df)\n",
    "y_val = scaler_Y.transform(y_val_df)"
   ]
  },
  {
   "cell_type": "code",
   "execution_count": 18,
   "metadata": {
    "deletable": false,
    "editable": false,
    "run_control": {
     "frozen": true
    }
   },
   "outputs": [],
   "source": [
    "y_train = y_train.SalePrice.values.astype(float)\n",
    "y_val = y_val.SalePrice.values.astype(float)"
   ]
  },
  {
   "cell_type": "code",
   "execution_count": 134,
   "metadata": {
    "deletable": false,
    "editable": false,
    "run_control": {
     "frozen": true
    }
   },
   "outputs": [],
   "source": [
    "X_train = transpose([X_train.Surface.values.astype(float)])\n",
    "X_val = transpose([X_val.Surface.values.astype(float)])"
   ]
  },
  {
   "cell_type": "code",
   "execution_count": 24,
   "metadata": {},
   "outputs": [
    {
     "data": {
      "text/plain": [
       "(1049, 122)"
      ]
     },
     "execution_count": 24,
     "metadata": {},
     "output_type": "execute_result"
    }
   ],
   "source": [
    "X_train_df.shape"
   ]
  },
  {
   "cell_type": "code",
   "execution_count": 25,
   "metadata": {},
   "outputs": [],
   "source": [
    "#X_train = X_train[['Surface','OverallQual']].values.astype(float)\n",
    "#X_val = X_val[['Surface','OverallQual']].values.astype(float)\n",
    "X_train = X_train_df.values.astype(float)\n",
    "X_val = X_val_df.values.astype(float)\n",
    "test = test_df.values.astype(float)"
   ]
  },
  {
   "cell_type": "code",
   "execution_count": 26,
   "metadata": {},
   "outputs": [],
   "source": [
    "nb_features = 75 # 24\n",
    "X_train = X_train[:,:nb_features]\n",
    "X_val = X_val[:,:nb_features]\n",
    "test = test[:,:nb_features]"
   ]
  },
  {
   "cell_type": "code",
   "execution_count": 180,
   "metadata": {
    "deletable": false,
    "editable": false,
    "run_control": {
     "frozen": true
    }
   },
   "outputs": [
    {
     "data": {
      "image/png": "[encoded data removed]",
      "text/plain": [
       "<Figure size 432x288 with 1 Axes>"
      ]
     },
     "metadata": {
      "needs_background": "light"
     },
     "output_type": "display_data"
    }
   ],
   "source": [
    "nb_features = 150\n",
    "pca = PCA(n_components=nb_features)\n",
    "pca.fit(X_train)\n",
    "plt.plot(np.cumsum(pca.explained_variance_ratio_))\n",
    "plt.xlabel('Number of components')\n",
    "plt.ylabel('Cumulative explained variance')\n",
    "X_train=pca.transform(X_train)\n",
    "X_val=pca.transform(X_val)\n",
    "test=pca.transform(test)\n"
   ]
  },
  {
   "cell_type": "code",
   "execution_count": 27,
   "metadata": {},
   "outputs": [
    {
     "data": {
      "text/plain": [
       "(1049, 75)"
      ]
     },
     "execution_count": 27,
     "metadata": {},
     "output_type": "execute_result"
    }
   ],
   "source": [
    "X_train.shape"
   ]
  },
  {
   "cell_type": "code",
   "execution_count": 28,
   "metadata": {},
   "outputs": [],
   "source": [
    "from tensorflow.keras.backend import sigmoid, tanh, maximum\n",
    "def custom(x):\n",
    "    return maximum(x,tanh(x))"
   ]
  },
  {
   "cell_type": "code",
   "execution_count": 29,
   "metadata": {},
   "outputs": [],
   "source": [
    "def get_reg_model():\n",
    "    return Sequential([\n",
    "                    Input(shape=X_train.shape[1]),\n",
    "                    Dense(1)\n",
    "])"
   ]
  },
  {
   "cell_type": "code",
   "execution_count": 30,
   "metadata": {},
   "outputs": [],
   "source": [
    "def get_other_model():\n",
    "    return Sequential([\n",
    "                    Input(shape=X_train.shape[1]),\n",
    "                    Dense(32, kernel_regularizer=regularizers.l1(0.001)),\n",
    "                    Activation('tanh', activity_regularizer=regularizers.l1(0.001)),\n",
    "#                    Dense(32, kernel_regularizer=regularizers.l1(0.001)),\n",
    "#                    Activation('tanh', activity_regularizer=regularizers.l1(0.001)),\n",
    "                    Dense(1)\n",
    "])"
   ]
  },
  {
   "cell_type": "code",
   "execution_count": 31,
   "metadata": {},
   "outputs": [],
   "source": [
    "def get_noregu_model():\n",
    "    return Sequential([\n",
    "                    Input(shape=X_train.shape[1]),\n",
    "                    Dense(32),\n",
    "                    Activation('softplus'),\n",
    "#                    Dense(32),\n",
    "#                    Activation('tanh'),\n",
    "                    Dense(1)\n",
    "])"
   ]
  },
  {
   "cell_type": "code",
   "execution_count": 32,
   "metadata": {},
   "outputs": [],
   "source": [
    "loss = 'mse'\n",
    "LEARNING_RATE = 0.01"
   ]
  },
  {
   "cell_type": "code",
   "execution_count": null,
   "metadata": {},
   "outputs": [],
   "source": []
  },
  {
   "cell_type": "code",
   "execution_count": 33,
   "metadata": {},
   "outputs": [
    {
     "name": "stdout",
     "output_type": "stream",
     "text": [
      "8.114405393600464 s\n"
     ]
    }
   ],
   "source": [
    "model = get_reg_model()\n",
    "model.compile(loss=loss, optimizer=SGD(lr=LEARNING_RATE))\n",
    "BATCH_SIZE = X_train.shape[0] # computing the loss over the whole dataset\n",
    "EPOCHS = 750 # how many iterations over the whole dataset\n",
    "t_0 = time()\n",
    "#with tf.device('/device:GPU:0'):\n",
    "history = model.fit(X_train, y_train,  validation_data=(X_val, y_val), epochs=EPOCHS, batch_size=BATCH_SIZE, verbose=0)\n",
    "\n",
    "print(time()-t_0, 's')"
   ]
  },
  {
   "cell_type": "code",
   "execution_count": 34,
   "metadata": {},
   "outputs": [
    {
     "data": {
      "image/png": "[encoded data removed]",
      "text/plain": [
       "<Figure size 576x360 with 1 Axes>"
      ]
     },
     "metadata": {
      "needs_background": "light"
     },
     "output_type": "display_data"
    }
   ],
   "source": [
    "DataFrame(history.history).plot(figsize=(8, 5), logy=True)\n",
    "plt.grid(True)\n",
    "#plt.gca().set_ylim(0, 1)\n",
    "plt.title('Model performance throughout training')\n",
    "plt.ylabel('Loss')\n",
    "plt.xlabel('epoch')\n",
    "plt.show()"
   ]
  },
  {
   "cell_type": "code",
   "execution_count": 35,
   "metadata": {},
   "outputs": [
    {
     "name": "stdout",
     "output_type": "stream",
     "text": [
      "Validation RMSLE: 0.1506580125399478\n",
      "Train RMSLE: 0.1009574743344544\n"
     ]
    }
   ],
   "source": [
    "y_p_scaled = model.predict(X_val)\n",
    "y_p_scaled = y_p_scaled.reshape(y_p_scaled.shape[0])\n",
    "y_p = scaler_Y.inverse_transform(y_p_scaled)\n",
    "\n",
    "RMSLE = sqrt(mean_squared_error(y_val_df,y_p))\n",
    "print('Validation RMSLE:', RMSLE)\n",
    "y_p_scaled = model.predict(X_train)\n",
    "y_p_scaled = y_p_scaled.reshape(y_p_scaled.shape[0])\n",
    "\n",
    "y_p = scaler_Y.inverse_transform(y_p_scaled)\n",
    "\n",
    "RMSLE = sqrt(mean_squared_error(y_train_df.SalePrice,y_p))\n",
    "print('Train RMSLE:', RMSLE)"
   ]
  },
  {
   "cell_type": "code",
   "execution_count": null,
   "metadata": {},
   "outputs": [],
   "source": []
  },
  {
   "cell_type": "code",
   "execution_count": 36,
   "metadata": {},
   "outputs": [],
   "source": [
    "test_pred_log_scaled = model.predict(test)\n",
    "test_pred_log = scaler_Y.inverse_transform(test_pred_log_scaled)\n",
    "test_pred = np.exp(test_pred_log).reshape(test_pred_log.shape[0])\n",
    "submission = DataFrame({\"SalePrice\": test_pred}, index=test_df.index)\n",
    "submission.to_csv('test-prediction-keras-lin.csv')"
   ]
  },
  {
   "cell_type": "code",
   "execution_count": 37,
   "metadata": {},
   "outputs": [
    {
     "name": "stdout",
     "output_type": "stream",
     "text": [
      "Model: \"sequential_2\"\n",
      "_________________________________________________________________\n",
      "Layer (type)                 Output Shape              Param #   \n",
      "=================================================================\n",
      "dense_2 (Dense)              (None, 32)                2432      \n",
      "_________________________________________________________________\n",
      "activation (Activation)      (None, 32)                0         \n",
      "_________________________________________________________________\n",
      "dense_3 (Dense)              (None, 1)                 33        \n",
      "=================================================================\n",
      "Total params: 2,465\n",
      "Trainable params: 2,465\n",
      "Non-trainable params: 0\n",
      "_________________________________________________________________\n"
     ]
    }
   ],
   "source": [
    "model = get_other_model()\n",
    "model.summary()"
   ]
  },
  {
   "cell_type": "code",
   "execution_count": 38,
   "metadata": {},
   "outputs": [],
   "source": [
    "LEARNING_RATE=0.05\n",
    "model.compile(loss=loss, optimizer=SGD(lr=LEARNING_RATE))\n",
    "#model.compile(loss=loss, optimizer=RMSprop(lr=LEARNING_RATE))\n",
    "#model.compile(loss=loss, optimizer=Adam(lr=LEARNING_RATE))"
   ]
  },
  {
   "cell_type": "code",
   "execution_count": 39,
   "metadata": {},
   "outputs": [
    {
     "name": "stdout",
     "output_type": "stream",
     "text": [
      "464.09608578681946\n"
     ]
    }
   ],
   "source": [
    "BATCH_SIZE = X_train.shape[0] # computing the loss over the whole dataset\n",
    "EPOCHS = 50000 # how many iterations over the whole dataset\n",
    "t_0 = time()\n",
    "#with tf.device('/device:GPU:0'):\n",
    "history = model.fit(X_train, y_train, validation_data=(X_val, y_val), epochs=EPOCHS, batch_size=BATCH_SIZE, verbose=0)\n",
    "print(time()-t_0)"
   ]
  },
  {
   "cell_type": "code",
   "execution_count": 40,
   "metadata": {},
   "outputs": [
    {
     "data": {
      "image/png": "[encoded data removed]",
      "text/plain": [
       "<Figure size 576x360 with 1 Axes>"
      ]
     },
     "metadata": {
      "needs_background": "light"
     },
     "output_type": "display_data"
    }
   ],
   "source": [
    "DataFrame(history.history).plot(figsize=(8, 5), logy=True)\n",
    "plt.grid(True)\n",
    "#plt.gca().set_ylim(0, 1)\n",
    "plt.title('Model performance throughout training')\n",
    "plt.ylabel('Loss')\n",
    "plt.xlabel('epoch')\n",
    "plt.show()"
   ]
  },
  {
   "cell_type": "code",
   "execution_count": 41,
   "metadata": {},
   "outputs": [
    {
     "name": "stdout",
     "output_type": "stream",
     "text": [
      "Validation RMSLE: 0.17380673267614266\n",
      "Train RMSLE: 0.06464777222708702\n"
     ]
    }
   ],
   "source": [
    "y_p_scaled = model.predict(X_val)\n",
    "y_p_scaled = y_p_scaled.reshape(y_p_scaled.shape[0])\n",
    "y_p_val = scaler_Y.inverse_transform(y_p_scaled)\n",
    "\n",
    "RMSLE = sqrt(mean_squared_error(y_val_df,y_p_val))\n",
    "print('Validation RMSLE:', RMSLE)\n",
    "y_p_scaled = model.predict(X_train)\n",
    "y_p_scaled = y_p_scaled.reshape(y_p_scaled.shape[0])\n",
    "\n",
    "y_p_train = scaler_Y.inverse_transform(y_p_scaled)\n",
    "\n",
    "RMSLE = sqrt(mean_squared_error(y_train_df.SalePrice, y_p_train))\n",
    "print('Train RMSLE:', RMSLE)"
   ]
  },
  {
   "cell_type": "code",
   "execution_count": 42,
   "metadata": {},
   "outputs": [],
   "source": [
    "test_pred_log_scaled = model.predict(test)\n",
    "test_pred_log = scaler_Y.inverse_transform(test_pred_log_scaled)\n",
    "test_pred = np.exp(test_pred_log).reshape(test_pred.shape[0])\n",
    "submission = DataFrame({\"SalePrice\": test_pred}, index=test_df.index)\n",
    "submission.to_csv('test-prediction-keras-1hiddenLayer.csv')"
   ]
  },
  {
   "cell_type": "code",
   "execution_count": 43,
   "metadata": {},
   "outputs": [
    {
     "data": {
      "image/png": "[encoded data removed]",
      "text/plain": [
       "<Figure size 1080x576 with 2 Axes>"
      ]
     },
     "metadata": {
      "needs_background": "light"
     },
     "output_type": "display_data"
    }
   ],
   "source": [
    "plt.figure(figsize=(15,8))\n",
    "plt.subplot(1,2,1)\n",
    "sns.distplot(y_p_train-y_train_df.SalePrice)\n",
    "plt.subplot(1,2,2)\n",
    "sns.distplot(y_p_val-y_val_df.SalePrice)\n",
    "plt.show()"
   ]
  },
  {
   "cell_type": "code",
   "execution_count": 44,
   "metadata": {},
   "outputs": [
    {
     "name": "stdout",
     "output_type": "stream",
     "text": [
      "(1049,)\n"
     ]
    },
    {
     "data": {
      "image/png": "[encoded data removed]",
      "text/plain": [
       "<Figure size 1080x720 with 1 Axes>"
      ]
     },
     "metadata": {
      "needs_background": "light"
     },
     "output_type": "display_data"
    }
   ],
   "source": [
    "y = y_val_df.SalePrice.to_numpy()\n",
    "y = y.reshape(y.shape[0])\n",
    "print(y_p_train.shape)\n",
    "df = DataFrame(data={'value':np.exp(y), 'predicted':np.exp(y_p_val)},index=y_val_df.index)\n",
    "plt.figure(figsize=(15,10))\n",
    "sns.scatterplot(x='value',y='predicted', data=df )\n",
    "plt.show()"
   ]
  },
  {
   "cell_type": "code",
   "execution_count": 45,
   "metadata": {},
   "outputs": [
    {
     "name": "stdout",
     "output_type": "stream",
     "text": [
      "524\n"
     ]
    }
   ],
   "source": [
    "anomaly_idx = df['predicted'].idxmax()\n",
    "print(anomaly_idx)"
   ]
  },
  {
   "cell_type": "code",
   "execution_count": 46,
   "metadata": {},
   "outputs": [],
   "source": [
    "anomaly = X_val_df.loc[anomaly_idx]"
   ]
  },
  {
   "cell_type": "code",
   "execution_count": 47,
   "metadata": {},
   "outputs": [
    {
     "data": {
      "text/plain": [
       "Surface                  6.628896\n",
       "OverallQual              2.824970\n",
       "KitchenQual_ord          2.274398\n",
       "BsmtQual_ord             1.703280\n",
       "Condition1_Norm         -2.498447\n",
       "SaleType_New             3.301206\n",
       "ExterQual_ord            2.807580\n",
       "GarageArea               1.948454\n",
       "MasVnrType_Stone         3.338538\n",
       "BsmtExposure_Gd          3.178799\n",
       "RoofStyle_Hip            2.001073\n",
       "FullBath                 2.614849\n",
       "LotArea                  3.283105\n",
       "GarageFinish_Fin         1.718296\n",
       "TotalBsmtSF              4.881511\n",
       "OpenPorchSF              5.380255\n",
       "1stFlrSF                 5.232092\n",
       "2ndFlrSF                 2.740429\n",
       "BsmtFinSF1               4.210999\n",
       "LandContour_Lvl         -2.980160\n",
       "Neighborhood_Edwards     3.734798\n",
       "GarageCars               1.634322\n",
       "LotFrontage              3.046534\n",
       "TotRmsAbvGrd             2.800135\n",
       "SaleCondition_Normal    -2.133631\n",
       "MasVnrArea               3.721816\n",
       "SaleCondition_Partial    3.264966\n",
       "LandContour_Bnk          4.582576\n",
       "BsmtFinType1_GLQ         1.618987\n",
       "RoofStyle_Gable         -1.862104\n",
       "HouseStyle_2Story        1.517602\n",
       "SaleType_WD             -2.592654\n",
       "GarageType_BuiltIn       3.987299\n",
       "MSSubClass_60            1.959126\n",
       "Name: 524, dtype: float64"
      ]
     },
     "execution_count": 47,
     "metadata": {},
     "output_type": "execute_result"
    }
   ],
   "source": [
    "anomaly.loc[np.abs(anomaly)>1.5]"
   ]
  },
  {
   "cell_type": "code",
   "execution_count": null,
   "metadata": {},
   "outputs": [],
   "source": []
  }
 ],
 "metadata": {
  "kernelspec": {
   "display_name": "Python 3",
   "language": "python",
   "name": "python3"
  },
  "language_info": {
   "codemirror_mode": {
    "name": "ipython",
    "version": 3
   },
   "file_extension": ".py",
   "mimetype": "text/x-python",
   "name": "python",
   "nbconvert_exporter": "python",
   "pygments_lexer": "ipython3",
   "version": "3.7.4"
  }
 },
 "nbformat": 4,
 "nbformat_minor": 2
}
